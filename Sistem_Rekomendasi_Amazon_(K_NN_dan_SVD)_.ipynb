{
  "cells": [
    {
      "cell_type": "markdown",
      "source": [
        "Nama  : Razif Zulvikar Hatuwe\n",
        "\n",
        "Judul : Proyek Sistem Rekomendasi\n",
        "\n",
        "Id Dicoding : hazura\n"
      ],
      "metadata": {
        "id": "W2S4vHennKpv"
      }
    },
    {
      "cell_type": "markdown",
      "metadata": {
        "id": "CjGx_7DZ36AQ"
      },
      "source": [
        "## Kaggle Download"
      ]
    },
    {
      "cell_type": "markdown",
      "metadata": {
        "id": "vyvPGhHErRzd"
      },
      "source": [
        "1. `import kagglehub` mengimpor modul kagglehub, yang memungkinkan pengguna untuk mengunduh dataset dari Kaggle menggunakan API\n",
        "2. `path = kagglehub.dataset_download(...)`, fungsi untuk mengunduh versi terbaru dari dataset. hasil unduhan akan di simpan pada variable path.\n",
        "3. `print(\"Path to dataset files:\", path)` berfungsi untuk melihat lokasi file dataset yang baru saja di unduh."
      ]
    },
    {
      "cell_type": "code",
      "execution_count": null,
      "metadata": {
        "colab": {
          "base_uri": "https://localhost:8080/"
        },
        "id": "M7NyQ7hN36AQ",
        "outputId": "57dbcb89-4af1-470a-b364-1c2e5bb12281"
      },
      "outputs": [
        {
          "output_type": "stream",
          "name": "stdout",
          "text": [
            "Warning: Looks like you're using an outdated `kagglehub` version, please consider updating (latest version: 0.3.4)\n",
            "Downloading from https://www.kaggle.com/api/v1/datasets/download/saurav9786/amazon-product-reviews?dataset_version_number=1...\n"
          ]
        },
        {
          "output_type": "stream",
          "name": "stderr",
          "text": [
            "100%|██████████| 109M/109M [00:02<00:00, 39.4MB/s]"
          ]
        },
        {
          "output_type": "stream",
          "name": "stdout",
          "text": [
            "Extracting files...\n"
          ]
        },
        {
          "output_type": "stream",
          "name": "stderr",
          "text": [
            "\n"
          ]
        },
        {
          "output_type": "stream",
          "name": "stdout",
          "text": [
            "Path to dataset files: /root/.cache/kagglehub/datasets/saurav9786/amazon-product-reviews/versions/1\n"
          ]
        }
      ],
      "source": [
        "import kagglehub\n",
        "\n",
        "# Download latest version\n",
        "path = kagglehub.dataset_download(\"saurav9786/amazon-product-reviews\")\n",
        "\n",
        "print(\"Path to dataset files:\", path)"
      ]
    },
    {
      "cell_type": "code",
      "execution_count": 43,
      "metadata": {
        "id": "jJrL60gZ6jwu"
      },
      "outputs": [],
      "source": [
        "import pandas as pd\n",
        "data = pd.read_csv('/root/.cache/kagglehub/datasets/saurav9786/amazon-product-reviews/versions/1/ratings_Electronics (1).csv')"
      ]
    },
    {
      "cell_type": "markdown",
      "metadata": {
        "id": "LMsg6OR-On0u"
      },
      "source": [
        "# EDA"
      ]
    },
    {
      "cell_type": "markdown",
      "metadata": {
        "id": "V6OphdaTJfoI"
      },
      "source": [
        "Kode ini mengimpor 3 pustaka Pyhton yang umum digunakan untuk analisis data dan visual:\n",
        "1. `import pandas as pd`: Pustaka untuk manipulasi data. Pandas memungkinkan Anda untuk bekerja dengan struktur data seperti DataFrame, yang sangat berguna untuk mengolah dan menganalisis data dalam bhentuk tabel.\n",
        "2. `import matplotlib.pyplot as plt`: Pustaka untuk membuat visualisasi data seperti grafik dan plot. plt sering digunakan untuk menggambarkan berbagai jenis grafik seperti grafik garis, bar chart, histogram, dan lain-lain.\n",
        "3. `import seaborn as sns`: Pustaka berbasis matplotlib yang lebih fokus pada pembuatan visualisasi statistik yang lebih menarik dan informatif. Seaborn memudahkan pembuatan plot seperti heatmap, bloxplot, dan pairplot dengan pengaturan yang belih sederhana dan lebih estetis."
      ]
    },
    {
      "cell_type": "code",
      "execution_count": 44,
      "metadata": {
        "id": "nNjEN5P3Oo6-"
      },
      "outputs": [],
      "source": [
        "import pandas as pd\n",
        "import matplotlib.pyplot as plt\n",
        "import seaborn as sns"
      ]
    },
    {
      "cell_type": "markdown",
      "metadata": {
        "id": "zSh2FhMHKRAQ"
      },
      "source": [
        "Perintah `data.head()` digunakan dalam pandas untuk menampilkan 5 baris pertama dari DataFrame yang disebut `data`. Ini berguna unuk melihat sekilas isi data yang sedang diproses."
      ]
    },
    {
      "cell_type": "code",
      "execution_count": 45,
      "metadata": {
        "id": "lfYeGrZvO30u",
        "colab": {
          "base_uri": "https://localhost:8080/",
          "height": 206
        },
        "outputId": "856302d3-426c-4030-b042-c4338a60fc6e"
      },
      "outputs": [
        {
          "output_type": "execute_result",
          "data": {
            "text/plain": [
              "    AKM1MP6P0OYPR  0132793040  5.0  1365811200\n",
              "0  A2CX7LUOHB2NDG  0321732944  5.0  1341100800\n",
              "1  A2NWSAGRHCP8N5  0439886341  1.0  1367193600\n",
              "2  A2WNBOD3WNDNKT  0439886341  3.0  1374451200\n",
              "3  A1GI0U4ZRJA8WN  0439886341  1.0  1334707200\n",
              "4  A1QGNMC6O1VW39  0511189877  5.0  1397433600"
            ],
            "text/html": [
              "\n",
              "  <div id=\"df-f5e04835-5ef3-4cb7-a526-03d5465d048a\" class=\"colab-df-container\">\n",
              "    <div>\n",
              "<style scoped>\n",
              "    .dataframe tbody tr th:only-of-type {\n",
              "        vertical-align: middle;\n",
              "    }\n",
              "\n",
              "    .dataframe tbody tr th {\n",
              "        vertical-align: top;\n",
              "    }\n",
              "\n",
              "    .dataframe thead th {\n",
              "        text-align: right;\n",
              "    }\n",
              "</style>\n",
              "<table border=\"1\" class=\"dataframe\">\n",
              "  <thead>\n",
              "    <tr style=\"text-align: right;\">\n",
              "      <th></th>\n",
              "      <th>AKM1MP6P0OYPR</th>\n",
              "      <th>0132793040</th>\n",
              "      <th>5.0</th>\n",
              "      <th>1365811200</th>\n",
              "    </tr>\n",
              "  </thead>\n",
              "  <tbody>\n",
              "    <tr>\n",
              "      <th>0</th>\n",
              "      <td>A2CX7LUOHB2NDG</td>\n",
              "      <td>0321732944</td>\n",
              "      <td>5.0</td>\n",
              "      <td>1341100800</td>\n",
              "    </tr>\n",
              "    <tr>\n",
              "      <th>1</th>\n",
              "      <td>A2NWSAGRHCP8N5</td>\n",
              "      <td>0439886341</td>\n",
              "      <td>1.0</td>\n",
              "      <td>1367193600</td>\n",
              "    </tr>\n",
              "    <tr>\n",
              "      <th>2</th>\n",
              "      <td>A2WNBOD3WNDNKT</td>\n",
              "      <td>0439886341</td>\n",
              "      <td>3.0</td>\n",
              "      <td>1374451200</td>\n",
              "    </tr>\n",
              "    <tr>\n",
              "      <th>3</th>\n",
              "      <td>A1GI0U4ZRJA8WN</td>\n",
              "      <td>0439886341</td>\n",
              "      <td>1.0</td>\n",
              "      <td>1334707200</td>\n",
              "    </tr>\n",
              "    <tr>\n",
              "      <th>4</th>\n",
              "      <td>A1QGNMC6O1VW39</td>\n",
              "      <td>0511189877</td>\n",
              "      <td>5.0</td>\n",
              "      <td>1397433600</td>\n",
              "    </tr>\n",
              "  </tbody>\n",
              "</table>\n",
              "</div>\n",
              "    <div class=\"colab-df-buttons\">\n",
              "\n",
              "  <div class=\"colab-df-container\">\n",
              "    <button class=\"colab-df-convert\" onclick=\"convertToInteractive('df-f5e04835-5ef3-4cb7-a526-03d5465d048a')\"\n",
              "            title=\"Convert this dataframe to an interactive table.\"\n",
              "            style=\"display:none;\">\n",
              "\n",
              "  <svg xmlns=\"http://www.w3.org/2000/svg\" height=\"24px\" viewBox=\"0 -960 960 960\">\n",
              "    <path d=\"M120-120v-720h720v720H120Zm60-500h600v-160H180v160Zm220 220h160v-160H400v160Zm0 220h160v-160H400v160ZM180-400h160v-160H180v160Zm440 0h160v-160H620v160ZM180-180h160v-160H180v160Zm440 0h160v-160H620v160Z\"/>\n",
              "  </svg>\n",
              "    </button>\n",
              "\n",
              "  <style>\n",
              "    .colab-df-container {\n",
              "      display:flex;\n",
              "      gap: 12px;\n",
              "    }\n",
              "\n",
              "    .colab-df-convert {\n",
              "      background-color: #E8F0FE;\n",
              "      border: none;\n",
              "      border-radius: 50%;\n",
              "      cursor: pointer;\n",
              "      display: none;\n",
              "      fill: #1967D2;\n",
              "      height: 32px;\n",
              "      padding: 0 0 0 0;\n",
              "      width: 32px;\n",
              "    }\n",
              "\n",
              "    .colab-df-convert:hover {\n",
              "      background-color: #E2EBFA;\n",
              "      box-shadow: 0px 1px 2px rgba(60, 64, 67, 0.3), 0px 1px 3px 1px rgba(60, 64, 67, 0.15);\n",
              "      fill: #174EA6;\n",
              "    }\n",
              "\n",
              "    .colab-df-buttons div {\n",
              "      margin-bottom: 4px;\n",
              "    }\n",
              "\n",
              "    [theme=dark] .colab-df-convert {\n",
              "      background-color: #3B4455;\n",
              "      fill: #D2E3FC;\n",
              "    }\n",
              "\n",
              "    [theme=dark] .colab-df-convert:hover {\n",
              "      background-color: #434B5C;\n",
              "      box-shadow: 0px 1px 3px 1px rgba(0, 0, 0, 0.15);\n",
              "      filter: drop-shadow(0px 1px 2px rgba(0, 0, 0, 0.3));\n",
              "      fill: #FFFFFF;\n",
              "    }\n",
              "  </style>\n",
              "\n",
              "    <script>\n",
              "      const buttonEl =\n",
              "        document.querySelector('#df-f5e04835-5ef3-4cb7-a526-03d5465d048a button.colab-df-convert');\n",
              "      buttonEl.style.display =\n",
              "        google.colab.kernel.accessAllowed ? 'block' : 'none';\n",
              "\n",
              "      async function convertToInteractive(key) {\n",
              "        const element = document.querySelector('#df-f5e04835-5ef3-4cb7-a526-03d5465d048a');\n",
              "        const dataTable =\n",
              "          await google.colab.kernel.invokeFunction('convertToInteractive',\n",
              "                                                    [key], {});\n",
              "        if (!dataTable) return;\n",
              "\n",
              "        const docLinkHtml = 'Like what you see? Visit the ' +\n",
              "          '<a target=\"_blank\" href=https://colab.research.google.com/notebooks/data_table.ipynb>data table notebook</a>'\n",
              "          + ' to learn more about interactive tables.';\n",
              "        element.innerHTML = '';\n",
              "        dataTable['output_type'] = 'display_data';\n",
              "        await google.colab.output.renderOutput(dataTable, element);\n",
              "        const docLink = document.createElement('div');\n",
              "        docLink.innerHTML = docLinkHtml;\n",
              "        element.appendChild(docLink);\n",
              "      }\n",
              "    </script>\n",
              "  </div>\n",
              "\n",
              "\n",
              "<div id=\"df-9cf34b51-d300-4c9a-afbb-fc240f34f1ee\">\n",
              "  <button class=\"colab-df-quickchart\" onclick=\"quickchart('df-9cf34b51-d300-4c9a-afbb-fc240f34f1ee')\"\n",
              "            title=\"Suggest charts\"\n",
              "            style=\"display:none;\">\n",
              "\n",
              "<svg xmlns=\"http://www.w3.org/2000/svg\" height=\"24px\"viewBox=\"0 0 24 24\"\n",
              "     width=\"24px\">\n",
              "    <g>\n",
              "        <path d=\"M19 3H5c-1.1 0-2 .9-2 2v14c0 1.1.9 2 2 2h14c1.1 0 2-.9 2-2V5c0-1.1-.9-2-2-2zM9 17H7v-7h2v7zm4 0h-2V7h2v10zm4 0h-2v-4h2v4z\"/>\n",
              "    </g>\n",
              "</svg>\n",
              "  </button>\n",
              "\n",
              "<style>\n",
              "  .colab-df-quickchart {\n",
              "      --bg-color: #E8F0FE;\n",
              "      --fill-color: #1967D2;\n",
              "      --hover-bg-color: #E2EBFA;\n",
              "      --hover-fill-color: #174EA6;\n",
              "      --disabled-fill-color: #AAA;\n",
              "      --disabled-bg-color: #DDD;\n",
              "  }\n",
              "\n",
              "  [theme=dark] .colab-df-quickchart {\n",
              "      --bg-color: #3B4455;\n",
              "      --fill-color: #D2E3FC;\n",
              "      --hover-bg-color: #434B5C;\n",
              "      --hover-fill-color: #FFFFFF;\n",
              "      --disabled-bg-color: #3B4455;\n",
              "      --disabled-fill-color: #666;\n",
              "  }\n",
              "\n",
              "  .colab-df-quickchart {\n",
              "    background-color: var(--bg-color);\n",
              "    border: none;\n",
              "    border-radius: 50%;\n",
              "    cursor: pointer;\n",
              "    display: none;\n",
              "    fill: var(--fill-color);\n",
              "    height: 32px;\n",
              "    padding: 0;\n",
              "    width: 32px;\n",
              "  }\n",
              "\n",
              "  .colab-df-quickchart:hover {\n",
              "    background-color: var(--hover-bg-color);\n",
              "    box-shadow: 0 1px 2px rgba(60, 64, 67, 0.3), 0 1px 3px 1px rgba(60, 64, 67, 0.15);\n",
              "    fill: var(--button-hover-fill-color);\n",
              "  }\n",
              "\n",
              "  .colab-df-quickchart-complete:disabled,\n",
              "  .colab-df-quickchart-complete:disabled:hover {\n",
              "    background-color: var(--disabled-bg-color);\n",
              "    fill: var(--disabled-fill-color);\n",
              "    box-shadow: none;\n",
              "  }\n",
              "\n",
              "  .colab-df-spinner {\n",
              "    border: 2px solid var(--fill-color);\n",
              "    border-color: transparent;\n",
              "    border-bottom-color: var(--fill-color);\n",
              "    animation:\n",
              "      spin 1s steps(1) infinite;\n",
              "  }\n",
              "\n",
              "  @keyframes spin {\n",
              "    0% {\n",
              "      border-color: transparent;\n",
              "      border-bottom-color: var(--fill-color);\n",
              "      border-left-color: var(--fill-color);\n",
              "    }\n",
              "    20% {\n",
              "      border-color: transparent;\n",
              "      border-left-color: var(--fill-color);\n",
              "      border-top-color: var(--fill-color);\n",
              "    }\n",
              "    30% {\n",
              "      border-color: transparent;\n",
              "      border-left-color: var(--fill-color);\n",
              "      border-top-color: var(--fill-color);\n",
              "      border-right-color: var(--fill-color);\n",
              "    }\n",
              "    40% {\n",
              "      border-color: transparent;\n",
              "      border-right-color: var(--fill-color);\n",
              "      border-top-color: var(--fill-color);\n",
              "    }\n",
              "    60% {\n",
              "      border-color: transparent;\n",
              "      border-right-color: var(--fill-color);\n",
              "    }\n",
              "    80% {\n",
              "      border-color: transparent;\n",
              "      border-right-color: var(--fill-color);\n",
              "      border-bottom-color: var(--fill-color);\n",
              "    }\n",
              "    90% {\n",
              "      border-color: transparent;\n",
              "      border-bottom-color: var(--fill-color);\n",
              "    }\n",
              "  }\n",
              "</style>\n",
              "\n",
              "  <script>\n",
              "    async function quickchart(key) {\n",
              "      const quickchartButtonEl =\n",
              "        document.querySelector('#' + key + ' button');\n",
              "      quickchartButtonEl.disabled = true;  // To prevent multiple clicks.\n",
              "      quickchartButtonEl.classList.add('colab-df-spinner');\n",
              "      try {\n",
              "        const charts = await google.colab.kernel.invokeFunction(\n",
              "            'suggestCharts', [key], {});\n",
              "      } catch (error) {\n",
              "        console.error('Error during call to suggestCharts:', error);\n",
              "      }\n",
              "      quickchartButtonEl.classList.remove('colab-df-spinner');\n",
              "      quickchartButtonEl.classList.add('colab-df-quickchart-complete');\n",
              "    }\n",
              "    (() => {\n",
              "      let quickchartButtonEl =\n",
              "        document.querySelector('#df-9cf34b51-d300-4c9a-afbb-fc240f34f1ee button');\n",
              "      quickchartButtonEl.style.display =\n",
              "        google.colab.kernel.accessAllowed ? 'block' : 'none';\n",
              "    })();\n",
              "  </script>\n",
              "</div>\n",
              "\n",
              "    </div>\n",
              "  </div>\n"
            ],
            "application/vnd.google.colaboratory.intrinsic+json": {
              "type": "dataframe",
              "variable_name": "data"
            }
          },
          "metadata": {},
          "execution_count": 45
        }
      ],
      "source": [
        "data.head()"
      ]
    },
    {
      "cell_type": "markdown",
      "metadata": {
        "id": "QblkQdrbKfgh"
      },
      "source": [
        "Perintah `data.rename(columns={...})` digunakan untuk mengganti nama kolom dalam DataFrame `data`. Dalam contoh ini:\n",
        "1. Kolom '`AKM1MP6P0OYPR`' diganti menjadi '`user_id`'.\n",
        "2. Kolom '`0132793040`' diganti menjadi '`product_id`'.\n",
        "3. Kolom '`5.0`' diganti menjadi '`Rating`'.\n",
        "4. Kolom '`1365811200`' diganti menjadi '`timestamp`'.\n"
      ]
    },
    {
      "cell_type": "code",
      "execution_count": 46,
      "metadata": {
        "id": "6gLOE_3qPLAv"
      },
      "outputs": [],
      "source": [
        "data = data.rename(columns={\n",
        "    'AKM1MP6P0OYPR': 'user_id',\n",
        "    '0132793040': 'product_id',\n",
        "    '5.0': 'Rating',\n",
        "    '1365811200': 'timestamp'\n",
        "})"
      ]
    },
    {
      "cell_type": "markdown",
      "metadata": {
        "id": "duFIagHuK3Nq"
      },
      "source": [
        "Perintah `data.info()` digunakan untuk menampilkan informasi ringkas tentang DataFrame `data`. Seperti:\n",
        "1. Jumlah total baris (entries).\n",
        "2. jumlah kolom.\n",
        "3. Nama - Nama kolom dan tipe data masing - masing kolom.\n",
        "4. Jumlah nilai non - null (tidak kosong) di setiap kolom."
      ]
    },
    {
      "cell_type": "code",
      "execution_count": 47,
      "metadata": {
        "id": "Ong4K5unO6i4",
        "colab": {
          "base_uri": "https://localhost:8080/"
        },
        "outputId": "6c234f9c-c893-4944-ee62-9fb26a5d98d5"
      },
      "outputs": [
        {
          "output_type": "stream",
          "name": "stdout",
          "text": [
            "<class 'pandas.core.frame.DataFrame'>\n",
            "RangeIndex: 7824481 entries, 0 to 7824480\n",
            "Data columns (total 4 columns):\n",
            " #   Column      Dtype  \n",
            "---  ------      -----  \n",
            " 0   user_id     object \n",
            " 1   product_id  object \n",
            " 2   Rating      float64\n",
            " 3   timestamp   int64  \n",
            "dtypes: float64(1), int64(1), object(2)\n",
            "memory usage: 238.8+ MB\n"
          ]
        }
      ],
      "source": [
        "data.info()"
      ]
    },
    {
      "cell_type": "markdown",
      "metadata": {
        "id": "p7jjz4WmLoSv"
      },
      "source": [
        "Perintah data.tail() digunakan untuk menampilkan 5 baris terakhir dari DataFrame data. ini berguna untuk memeriksa data yang berbeda bawah dataset."
      ]
    },
    {
      "cell_type": "code",
      "execution_count": 48,
      "metadata": {
        "id": "iggOema6CSOI",
        "colab": {
          "base_uri": "https://localhost:8080/",
          "height": 206
        },
        "outputId": "6d118acc-fa2b-46db-db78-caad9f5aa868"
      },
      "outputs": [
        {
          "output_type": "execute_result",
          "data": {
            "text/plain": [
              "                user_id  product_id  Rating   timestamp\n",
              "7824476  A2YZI3C9MOHC0L  BT008UKTMW     5.0  1396569600\n",
              "7824477  A322MDK0M89RHN  BT008UKTMW     5.0  1313366400\n",
              "7824478  A1MH90R0ADMIK0  BT008UKTMW     4.0  1404172800\n",
              "7824479  A10M2KEFPEQDHN  BT008UKTMW     4.0  1297555200\n",
              "7824480  A2G81TMIOIDEQQ  BT008V9J9U     5.0  1312675200"
            ],
            "text/html": [
              "\n",
              "  <div id=\"df-8d10261b-3317-463a-a915-8a4c375ee189\" class=\"colab-df-container\">\n",
              "    <div>\n",
              "<style scoped>\n",
              "    .dataframe tbody tr th:only-of-type {\n",
              "        vertical-align: middle;\n",
              "    }\n",
              "\n",
              "    .dataframe tbody tr th {\n",
              "        vertical-align: top;\n",
              "    }\n",
              "\n",
              "    .dataframe thead th {\n",
              "        text-align: right;\n",
              "    }\n",
              "</style>\n",
              "<table border=\"1\" class=\"dataframe\">\n",
              "  <thead>\n",
              "    <tr style=\"text-align: right;\">\n",
              "      <th></th>\n",
              "      <th>user_id</th>\n",
              "      <th>product_id</th>\n",
              "      <th>Rating</th>\n",
              "      <th>timestamp</th>\n",
              "    </tr>\n",
              "  </thead>\n",
              "  <tbody>\n",
              "    <tr>\n",
              "      <th>7824476</th>\n",
              "      <td>A2YZI3C9MOHC0L</td>\n",
              "      <td>BT008UKTMW</td>\n",
              "      <td>5.0</td>\n",
              "      <td>1396569600</td>\n",
              "    </tr>\n",
              "    <tr>\n",
              "      <th>7824477</th>\n",
              "      <td>A322MDK0M89RHN</td>\n",
              "      <td>BT008UKTMW</td>\n",
              "      <td>5.0</td>\n",
              "      <td>1313366400</td>\n",
              "    </tr>\n",
              "    <tr>\n",
              "      <th>7824478</th>\n",
              "      <td>A1MH90R0ADMIK0</td>\n",
              "      <td>BT008UKTMW</td>\n",
              "      <td>4.0</td>\n",
              "      <td>1404172800</td>\n",
              "    </tr>\n",
              "    <tr>\n",
              "      <th>7824479</th>\n",
              "      <td>A10M2KEFPEQDHN</td>\n",
              "      <td>BT008UKTMW</td>\n",
              "      <td>4.0</td>\n",
              "      <td>1297555200</td>\n",
              "    </tr>\n",
              "    <tr>\n",
              "      <th>7824480</th>\n",
              "      <td>A2G81TMIOIDEQQ</td>\n",
              "      <td>BT008V9J9U</td>\n",
              "      <td>5.0</td>\n",
              "      <td>1312675200</td>\n",
              "    </tr>\n",
              "  </tbody>\n",
              "</table>\n",
              "</div>\n",
              "    <div class=\"colab-df-buttons\">\n",
              "\n",
              "  <div class=\"colab-df-container\">\n",
              "    <button class=\"colab-df-convert\" onclick=\"convertToInteractive('df-8d10261b-3317-463a-a915-8a4c375ee189')\"\n",
              "            title=\"Convert this dataframe to an interactive table.\"\n",
              "            style=\"display:none;\">\n",
              "\n",
              "  <svg xmlns=\"http://www.w3.org/2000/svg\" height=\"24px\" viewBox=\"0 -960 960 960\">\n",
              "    <path d=\"M120-120v-720h720v720H120Zm60-500h600v-160H180v160Zm220 220h160v-160H400v160Zm0 220h160v-160H400v160ZM180-400h160v-160H180v160Zm440 0h160v-160H620v160ZM180-180h160v-160H180v160Zm440 0h160v-160H620v160Z\"/>\n",
              "  </svg>\n",
              "    </button>\n",
              "\n",
              "  <style>\n",
              "    .colab-df-container {\n",
              "      display:flex;\n",
              "      gap: 12px;\n",
              "    }\n",
              "\n",
              "    .colab-df-convert {\n",
              "      background-color: #E8F0FE;\n",
              "      border: none;\n",
              "      border-radius: 50%;\n",
              "      cursor: pointer;\n",
              "      display: none;\n",
              "      fill: #1967D2;\n",
              "      height: 32px;\n",
              "      padding: 0 0 0 0;\n",
              "      width: 32px;\n",
              "    }\n",
              "\n",
              "    .colab-df-convert:hover {\n",
              "      background-color: #E2EBFA;\n",
              "      box-shadow: 0px 1px 2px rgba(60, 64, 67, 0.3), 0px 1px 3px 1px rgba(60, 64, 67, 0.15);\n",
              "      fill: #174EA6;\n",
              "    }\n",
              "\n",
              "    .colab-df-buttons div {\n",
              "      margin-bottom: 4px;\n",
              "    }\n",
              "\n",
              "    [theme=dark] .colab-df-convert {\n",
              "      background-color: #3B4455;\n",
              "      fill: #D2E3FC;\n",
              "    }\n",
              "\n",
              "    [theme=dark] .colab-df-convert:hover {\n",
              "      background-color: #434B5C;\n",
              "      box-shadow: 0px 1px 3px 1px rgba(0, 0, 0, 0.15);\n",
              "      filter: drop-shadow(0px 1px 2px rgba(0, 0, 0, 0.3));\n",
              "      fill: #FFFFFF;\n",
              "    }\n",
              "  </style>\n",
              "\n",
              "    <script>\n",
              "      const buttonEl =\n",
              "        document.querySelector('#df-8d10261b-3317-463a-a915-8a4c375ee189 button.colab-df-convert');\n",
              "      buttonEl.style.display =\n",
              "        google.colab.kernel.accessAllowed ? 'block' : 'none';\n",
              "\n",
              "      async function convertToInteractive(key) {\n",
              "        const element = document.querySelector('#df-8d10261b-3317-463a-a915-8a4c375ee189');\n",
              "        const dataTable =\n",
              "          await google.colab.kernel.invokeFunction('convertToInteractive',\n",
              "                                                    [key], {});\n",
              "        if (!dataTable) return;\n",
              "\n",
              "        const docLinkHtml = 'Like what you see? Visit the ' +\n",
              "          '<a target=\"_blank\" href=https://colab.research.google.com/notebooks/data_table.ipynb>data table notebook</a>'\n",
              "          + ' to learn more about interactive tables.';\n",
              "        element.innerHTML = '';\n",
              "        dataTable['output_type'] = 'display_data';\n",
              "        await google.colab.output.renderOutput(dataTable, element);\n",
              "        const docLink = document.createElement('div');\n",
              "        docLink.innerHTML = docLinkHtml;\n",
              "        element.appendChild(docLink);\n",
              "      }\n",
              "    </script>\n",
              "  </div>\n",
              "\n",
              "\n",
              "<div id=\"df-ab19b927-362a-4806-92ff-f7fdf3deffa6\">\n",
              "  <button class=\"colab-df-quickchart\" onclick=\"quickchart('df-ab19b927-362a-4806-92ff-f7fdf3deffa6')\"\n",
              "            title=\"Suggest charts\"\n",
              "            style=\"display:none;\">\n",
              "\n",
              "<svg xmlns=\"http://www.w3.org/2000/svg\" height=\"24px\"viewBox=\"0 0 24 24\"\n",
              "     width=\"24px\">\n",
              "    <g>\n",
              "        <path d=\"M19 3H5c-1.1 0-2 .9-2 2v14c0 1.1.9 2 2 2h14c1.1 0 2-.9 2-2V5c0-1.1-.9-2-2-2zM9 17H7v-7h2v7zm4 0h-2V7h2v10zm4 0h-2v-4h2v4z\"/>\n",
              "    </g>\n",
              "</svg>\n",
              "  </button>\n",
              "\n",
              "<style>\n",
              "  .colab-df-quickchart {\n",
              "      --bg-color: #E8F0FE;\n",
              "      --fill-color: #1967D2;\n",
              "      --hover-bg-color: #E2EBFA;\n",
              "      --hover-fill-color: #174EA6;\n",
              "      --disabled-fill-color: #AAA;\n",
              "      --disabled-bg-color: #DDD;\n",
              "  }\n",
              "\n",
              "  [theme=dark] .colab-df-quickchart {\n",
              "      --bg-color: #3B4455;\n",
              "      --fill-color: #D2E3FC;\n",
              "      --hover-bg-color: #434B5C;\n",
              "      --hover-fill-color: #FFFFFF;\n",
              "      --disabled-bg-color: #3B4455;\n",
              "      --disabled-fill-color: #666;\n",
              "  }\n",
              "\n",
              "  .colab-df-quickchart {\n",
              "    background-color: var(--bg-color);\n",
              "    border: none;\n",
              "    border-radius: 50%;\n",
              "    cursor: pointer;\n",
              "    display: none;\n",
              "    fill: var(--fill-color);\n",
              "    height: 32px;\n",
              "    padding: 0;\n",
              "    width: 32px;\n",
              "  }\n",
              "\n",
              "  .colab-df-quickchart:hover {\n",
              "    background-color: var(--hover-bg-color);\n",
              "    box-shadow: 0 1px 2px rgba(60, 64, 67, 0.3), 0 1px 3px 1px rgba(60, 64, 67, 0.15);\n",
              "    fill: var(--button-hover-fill-color);\n",
              "  }\n",
              "\n",
              "  .colab-df-quickchart-complete:disabled,\n",
              "  .colab-df-quickchart-complete:disabled:hover {\n",
              "    background-color: var(--disabled-bg-color);\n",
              "    fill: var(--disabled-fill-color);\n",
              "    box-shadow: none;\n",
              "  }\n",
              "\n",
              "  .colab-df-spinner {\n",
              "    border: 2px solid var(--fill-color);\n",
              "    border-color: transparent;\n",
              "    border-bottom-color: var(--fill-color);\n",
              "    animation:\n",
              "      spin 1s steps(1) infinite;\n",
              "  }\n",
              "\n",
              "  @keyframes spin {\n",
              "    0% {\n",
              "      border-color: transparent;\n",
              "      border-bottom-color: var(--fill-color);\n",
              "      border-left-color: var(--fill-color);\n",
              "    }\n",
              "    20% {\n",
              "      border-color: transparent;\n",
              "      border-left-color: var(--fill-color);\n",
              "      border-top-color: var(--fill-color);\n",
              "    }\n",
              "    30% {\n",
              "      border-color: transparent;\n",
              "      border-left-color: var(--fill-color);\n",
              "      border-top-color: var(--fill-color);\n",
              "      border-right-color: var(--fill-color);\n",
              "    }\n",
              "    40% {\n",
              "      border-color: transparent;\n",
              "      border-right-color: var(--fill-color);\n",
              "      border-top-color: var(--fill-color);\n",
              "    }\n",
              "    60% {\n",
              "      border-color: transparent;\n",
              "      border-right-color: var(--fill-color);\n",
              "    }\n",
              "    80% {\n",
              "      border-color: transparent;\n",
              "      border-right-color: var(--fill-color);\n",
              "      border-bottom-color: var(--fill-color);\n",
              "    }\n",
              "    90% {\n",
              "      border-color: transparent;\n",
              "      border-bottom-color: var(--fill-color);\n",
              "    }\n",
              "  }\n",
              "</style>\n",
              "\n",
              "  <script>\n",
              "    async function quickchart(key) {\n",
              "      const quickchartButtonEl =\n",
              "        document.querySelector('#' + key + ' button');\n",
              "      quickchartButtonEl.disabled = true;  // To prevent multiple clicks.\n",
              "      quickchartButtonEl.classList.add('colab-df-spinner');\n",
              "      try {\n",
              "        const charts = await google.colab.kernel.invokeFunction(\n",
              "            'suggestCharts', [key], {});\n",
              "      } catch (error) {\n",
              "        console.error('Error during call to suggestCharts:', error);\n",
              "      }\n",
              "      quickchartButtonEl.classList.remove('colab-df-spinner');\n",
              "      quickchartButtonEl.classList.add('colab-df-quickchart-complete');\n",
              "    }\n",
              "    (() => {\n",
              "      let quickchartButtonEl =\n",
              "        document.querySelector('#df-ab19b927-362a-4806-92ff-f7fdf3deffa6 button');\n",
              "      quickchartButtonEl.style.display =\n",
              "        google.colab.kernel.accessAllowed ? 'block' : 'none';\n",
              "    })();\n",
              "  </script>\n",
              "</div>\n",
              "\n",
              "    </div>\n",
              "  </div>\n"
            ],
            "application/vnd.google.colaboratory.intrinsic+json": {
              "type": "dataframe",
              "summary": "{\n  \"name\": \"data\",\n  \"rows\": 5,\n  \"fields\": [\n    {\n      \"column\": \"user_id\",\n      \"properties\": {\n        \"dtype\": \"string\",\n        \"num_unique_values\": 5,\n        \"samples\": [\n          \"A322MDK0M89RHN\",\n          \"A2G81TMIOIDEQQ\",\n          \"A1MH90R0ADMIK0\"\n        ],\n        \"semantic_type\": \"\",\n        \"description\": \"\"\n      }\n    },\n    {\n      \"column\": \"product_id\",\n      \"properties\": {\n        \"dtype\": \"category\",\n        \"num_unique_values\": 2,\n        \"samples\": [\n          \"BT008V9J9U\",\n          \"BT008UKTMW\"\n        ],\n        \"semantic_type\": \"\",\n        \"description\": \"\"\n      }\n    },\n    {\n      \"column\": \"Rating\",\n      \"properties\": {\n        \"dtype\": \"number\",\n        \"std\": 0.5477225575051662,\n        \"min\": 4.0,\n        \"max\": 5.0,\n        \"num_unique_values\": 2,\n        \"samples\": [\n          4.0,\n          5.0\n        ],\n        \"semantic_type\": \"\",\n        \"description\": \"\"\n      }\n    },\n    {\n      \"column\": \"timestamp\",\n      \"properties\": {\n        \"dtype\": \"number\",\n        \"std\": 51130575,\n        \"min\": 1297555200,\n        \"max\": 1404172800,\n        \"num_unique_values\": 5,\n        \"samples\": [\n          1313366400,\n          1312675200\n        ],\n        \"semantic_type\": \"\",\n        \"description\": \"\"\n      }\n    }\n  ]\n}"
            }
          },
          "metadata": {},
          "execution_count": 48
        }
      ],
      "source": [
        "data.tail()"
      ]
    },
    {
      "cell_type": "markdown",
      "source": [
        "Kode d`ata.isnull().sum()` digunakan untuk memeriksa jumlah nilai null atua kosong (missing values) pada setiap kolom dlam *DataFrame* `data`.\n",
        "1. `isnull()`: Menghasilkan DataFrame dengan nilai True pada posisi yang mengandung nilai null dan False untuk posisi nilai non-null.\n",
        "2. `sum()`: Menjumlahkan nilai True (yang dianggap sebagai 1) di setiap kolom, sehingga menghasilkan jumlah total dari nilai null di setiap kolom."
      ],
      "metadata": {
        "id": "4UrzMZ5tf83p"
      }
    },
    {
      "cell_type": "code",
      "source": [
        "data.isnull().sum()"
      ],
      "metadata": {
        "colab": {
          "base_uri": "https://localhost:8080/",
          "height": 210
        },
        "id": "tXB8KIeNfkUp",
        "outputId": "12fb40a3-168d-4aa8-8be3-8a49852df6fe"
      },
      "execution_count": 49,
      "outputs": [
        {
          "output_type": "execute_result",
          "data": {
            "text/plain": [
              "user_id       0\n",
              "product_id    0\n",
              "Rating        0\n",
              "timestamp     0\n",
              "dtype: int64"
            ],
            "text/html": [
              "<div>\n",
              "<style scoped>\n",
              "    .dataframe tbody tr th:only-of-type {\n",
              "        vertical-align: middle;\n",
              "    }\n",
              "\n",
              "    .dataframe tbody tr th {\n",
              "        vertical-align: top;\n",
              "    }\n",
              "\n",
              "    .dataframe thead th {\n",
              "        text-align: right;\n",
              "    }\n",
              "</style>\n",
              "<table border=\"1\" class=\"dataframe\">\n",
              "  <thead>\n",
              "    <tr style=\"text-align: right;\">\n",
              "      <th></th>\n",
              "      <th>0</th>\n",
              "    </tr>\n",
              "  </thead>\n",
              "  <tbody>\n",
              "    <tr>\n",
              "      <th>user_id</th>\n",
              "      <td>0</td>\n",
              "    </tr>\n",
              "    <tr>\n",
              "      <th>product_id</th>\n",
              "      <td>0</td>\n",
              "    </tr>\n",
              "    <tr>\n",
              "      <th>Rating</th>\n",
              "      <td>0</td>\n",
              "    </tr>\n",
              "    <tr>\n",
              "      <th>timestamp</th>\n",
              "      <td>0</td>\n",
              "    </tr>\n",
              "  </tbody>\n",
              "</table>\n",
              "</div><br><label><b>dtype:</b> int64</label>"
            ]
          },
          "metadata": {},
          "execution_count": 49
        }
      ]
    },
    {
      "cell_type": "markdown",
      "source": [
        "Kode `data.duplicated().sum()` digunakan untuk memeriksa jumlah baris duplikat dalam DataFrame data.\n",
        "1. `duplicated()`: Menghasilkan Series dengan nilai True untuk setiap baris yang merupakan duplikat (baris yang sudah muncul sebelumnya dengan data yang sama persis) dan False untuk baris yang unik.\n",
        "2. `sum()`: Menjumlahkan nilai True (yang dianggap sebagai 1), sehingga menghasilkan total jumlah baris duplikat dalam DataFrame."
      ],
      "metadata": {
        "id": "bkZtQpODgaiB"
      }
    },
    {
      "cell_type": "code",
      "source": [
        "data.duplicated().sum()"
      ],
      "metadata": {
        "colab": {
          "base_uri": "https://localhost:8080/"
        },
        "id": "Z_7QDWDMfrSy",
        "outputId": "5226f288-3bc6-49ac-b4a9-cff9a0508636"
      },
      "execution_count": 50,
      "outputs": [
        {
          "output_type": "execute_result",
          "data": {
            "text/plain": [
              "0"
            ]
          },
          "metadata": {},
          "execution_count": 50
        }
      ]
    },
    {
      "cell_type": "markdown",
      "metadata": {
        "id": "pcy7rvTQLrCX"
      },
      "source": [
        "Perintah `data.sample(n=10000, random_state=42)` digunakan untuk mengambil sample acak sebanyak 10000 baris dari DataFrame `data`. Parameter yang digunakan:\n",
        "1. `n=10000`: Menentukan jumlah sample yang ingin diambil (10000 baris).\n",
        "2. `random_state=42`: Menentapkan nilai seed untuk generator angka acak, sehingga hasil sampel acak akan konsisten setiap kali kode dijalankan (reproducible)."
      ]
    },
    {
      "cell_type": "code",
      "execution_count": null,
      "metadata": {
        "id": "ar64I0sYUfLX"
      },
      "outputs": [],
      "source": [
        "data = data.sample(n=10000, random_state=42)"
      ]
    },
    {
      "cell_type": "markdown",
      "metadata": {
        "id": "DIZDTZLtP21g"
      },
      "source": [
        "## Visualisasi"
      ]
    },
    {
      "cell_type": "markdown",
      "metadata": {
        "id": "mu-xfAhkSfO4"
      },
      "source": [
        "### Distribusi Rating"
      ]
    },
    {
      "cell_type": "markdown",
      "metadata": {
        "id": "XTFclEcdMTW5"
      },
      "source": [
        "Perintah ini digunakan untuk membuat plot distribusi dari kolom `Rating` dalam DataFrame `data`:\n",
        "1. `plt.figure(figsize=(8, 6))`: Menentukan ukuran grafik, yaitu 8x6 inci.\n",
        "2. `sns.histplot(data['Rating'], bins=5, kde=True, color='skyblue')`:\n",
        "  - `histplot`: Membuat histogram untuk kolom `Rating`.\n",
        "  - `bins=5`: Menentukan jumlah interval (bin) dalam histogram, disini ada 5 bin.\n",
        "  - `kde=True`: Menambahkan Kernel Density Estimate (KDE) untuk melihat distribusi yang lebih halus.\n",
        "  - `color='skyblue'`: Menentukan warna grafik menjadi biru muda.\n",
        "3. `plt.tittle('Distribusi Rating')`: Menambahkan judul grafik.\n",
        "4. `plt.xlabel('Rating')` dan` plt.ylabel('Frekuensi')`: Menambahkan label sumbu x dan y.\n",
        "5. `plt.show()`: Menampilkan grafik yang telah dibuat."
      ]
    },
    {
      "cell_type": "code",
      "execution_count": null,
      "metadata": {
        "id": "vvCE1AKkO7bW",
        "colab": {
          "base_uri": "https://localhost:8080/"
        },
        "outputId": "a3cbc64d-b430-44f8-d3aa-c6c6cac565f0"
      },
      "outputs": [
        {
          "output_type": "display_data",
          "data": {
            "text/plain": [
              "<Figure size 800x600 with 1 Axes>"
            ],
            "image/png": "[encoded data removed]"
          },
          "metadata": {}
        }
      ],
      "source": [
        "# Plot distribusi rating\n",
        "plt.figure(figsize=(8, 6))\n",
        "sns.histplot(data['Rating'], bins=5, kde=True, color='skyblue')\n",
        "plt.title('Distribusi Rating')\n",
        "plt.xlabel('Rating')\n",
        "plt.ylabel('Frekuensi')\n",
        "plt.show()\n"
      ]
    },
    {
      "cell_type": "markdown",
      "metadata": {
        "id": "tHhRayLLTE7f"
      },
      "source": [
        "Distribusi Rating: Menunjukkan apakah produk lebih banyak mendapatk rating 5.0 atau 1.0."
      ]
    },
    {
      "cell_type": "markdown",
      "metadata": {
        "id": "zBAQBtjwSiRe"
      },
      "source": [
        "### Banyaknya Produk yang Di-review"
      ]
    },
    {
      "cell_type": "markdown",
      "metadata": {
        "id": "6lk1BAUXNdA4"
      },
      "source": [
        "Perintah `data['product_id'].value_counts() `digunakan untuk menghitung jumlah ulasan (reviews) yang diberikan untuk setiap produk berdasarkan kolom `product_id`. Hasilnya adalah sebuah seri (series) yang menunjukkan jumlah ulasan untuk setiap `product_id`, diurutan dari yang terbanyak.\n",
        "1. `data['product_id']`: mengakses kolom `product_id` dalam DataFrame `data`.\n",
        "2. `value_count()`: Menghitung frekuensi setiap nilai unik dalam kolom tersebut, yang dalam hal ini adalah jumlah ulasan per produk."
      ]
    },
    {
      "cell_type": "code",
      "execution_count": null,
      "metadata": {
        "id": "Jru1QT1TQFg_"
      },
      "outputs": [],
      "source": [
        "# Menghitung jumlah ulasan per produk\n",
        "product_review_count = data['product_id'].value_counts()"
      ]
    },
    {
      "cell_type": "markdown",
      "metadata": {
        "id": "CgOyFXzqONxn"
      },
      "source": [
        "  Perintah ini digunakan untuk membuat grafik batang yang menampilkan 10 produk dengan jumlah ulasan terbanyak:\n",
        "  1. `plt.figure(figsize=(10, 6))`: Menentukan ukuran grafik menjadi 10x6 inci.\n",
        "  2. `product_review_count.head(10).plot(kind='bar', color='lightcoral')`:\n",
        "    - `head(10)`: Mengambil 10 produk teratas dengan jumlah ulasan terbanyak.\n",
        "    - `plot(kind='bar')`: membuat graik batang (bar chart).\n",
        "    - `color='lightcoral'`: Menentukan warna batang menjadi merah muda terang.\n",
        "  3. `plt.title('Top 10 Produk Dengan Jumlah Ulasan Terbanyak')`: Menambahkan judul grafik\n",
        "  4. `plt.xlabel('Produk ID')` dan `plt.ylabel('Jumlah Ulasan')`: Menambahkan label pada sumbu x dan y\n",
        "  5. `plt.xticks(rotation=45)`: Memutar label sumbu x (produk Id) sebesar 45 derajat agar lebih mudah dibaca.\n",
        "  6. `plt.show()`: Menampilkan grafik."
      ]
    },
    {
      "cell_type": "code",
      "execution_count": null,
      "metadata": {
        "id": "oKa_hNGRQZcG",
        "colab": {
          "base_uri": "https://localhost:8080/"
        },
        "outputId": "ebc4b625-4614-41a8-db8f-df086267e1b6"
      },
      "outputs": [
        {
          "output_type": "display_data",
          "data": {
            "text/plain": [
              "<Figure size 1000x600 with 1 Axes>"
            ],
            "image/png": "[encoded data removed]"
          },
          "metadata": {}
        }
      ],
      "source": [
        "# Plot 10 produk dengan jumlah ulasan terbanyak\n",
        "plt.figure(figsize=(10, 6))\n",
        "product_review_count.head(10).plot(kind='bar', color='lightcoral')\n",
        "plt.title('Top 10 Produk Dengan Jumlah Ulasan Terbanyak')\n",
        "plt.xlabel('Produk ID')\n",
        "plt.ylabel('Jumlah Ulasan')\n",
        "plt.xticks(rotation=45)\n",
        "plt.show()"
      ]
    },
    {
      "cell_type": "markdown",
      "metadata": {
        "id": "X1DqOtOYTMtO"
      },
      "source": [
        "Produk Terpopuler: Memberikan informasi tentang produk yang paling sering mendapatkan ulasan."
      ]
    },
    {
      "cell_type": "markdown",
      "metadata": {
        "id": "fiyrNvFwSlyX"
      },
      "source": [
        "### Jumlah Ulasan per Pengguna"
      ]
    },
    {
      "cell_type": "markdown",
      "metadata": {
        "id": "jQFpVJaKPcOa"
      },
      "source": [
        "Perintah `data['user_id'].value_counts() `digunakan untuk menghitung jumlah ulasan yang diberikan oleh setiap pengguna berdasarkan kolom `user_id`. Hasilnya adalah sebuah seri (series) yang menunjukkan jumlah ulasan untuk setiap pengguna, diurutkan dari yang terbanyak.\n",
        "1. `data['user_id']`: Mengakses kolom `user_id` dalam DataFrame `data`.\n",
        "2. `value_counts()`: Menghitung frekuensi setiap nilai unik dalam kolom tersebut, yang dalam hal ini adalah jumlah ulasan yang dibuat oleh masing - masing pengguna."
      ]
    },
    {
      "cell_type": "code",
      "execution_count": null,
      "metadata": {
        "id": "69BrPBN3QlIG"
      },
      "outputs": [],
      "source": [
        "# Menghitung jumlah ulasan per pengguna\n",
        "user_review_count = data['user_id'].value_counts()"
      ]
    },
    {
      "cell_type": "markdown",
      "metadata": {
        "id": "3y4JVBwYQDTI"
      },
      "source": [
        "Perintah ini digunakan untuk membuat grafik distribusi jumlah ulasan per pengguna:\n",
        "1. `plt.figure(figsize=(10, 6))`: Menentukan ukuran grafik menjadi 10x6 inci.\n",
        "2. `sns.histplot(user_review_count, bins=50, kde=True, color='lightgreen')`:\n",
        "  - `user_review_count`: Data yang digunakan adalah jumlah ulasan per pengguna.\n",
        "  - `bins=50`: Menentukan jumlah interval (bin) dalam histogram, di sini ada 50 bin.\n",
        "  - `kde=True`: Menambahkan Kernel Density Estimate (KDE) untuk memperhalus distribusi.\n",
        "  - `color='lightgreen'`: Menentukan warna grafik menjadi hijau muda.\n",
        "3. `plt.title('Distribusi Jumlah Ulasan per Pengguna')`: Menambahkan judul grafik.\n",
        "4. `lt.xlabel('Jumlah Ulasan')` dan `plt.ylabel('Frekuensi Pengguna')`: Menambahkan label pada sumbu x dan y.\n",
        "5. `plt.xlim(0, 50)`: Membatasi sumbu x agar hanya menampilkan jumlah ulasan dari 0 hingga 50.\n",
        "6. `plt.show()`: Menampilkan grafik."
      ]
    },
    {
      "cell_type": "code",
      "execution_count": null,
      "metadata": {
        "id": "d8aL1kaeQqWf",
        "colab": {
          "base_uri": "https://localhost:8080/"
        },
        "outputId": "01b14be3-856a-43db-f844-1ac8db12b1a2"
      },
      "outputs": [
        {
          "output_type": "display_data",
          "data": {
            "text/plain": [
              "<Figure size 1000x600 with 1 Axes>"
            ],
            "image/png": "[encoded data removed]"
          },
          "metadata": {}
        }
      ],
      "source": [
        "# Plot distribusi jumlah ulasan per pengguna\n",
        "plt.figure(figsize=(10, 6))\n",
        "sns.histplot(user_review_count, bins=50, kde=True, color='lightgreen')\n",
        "plt.title('Distribusi Jumlah Ulasan per Pengguna')\n",
        "plt.xlabel('Jumlah Ulasan')\n",
        "plt.ylabel('Frekuensi Pengguna')\n",
        "plt.xlim(0, 50)\n",
        "plt.show()"
      ]
    },
    {
      "cell_type": "markdown",
      "metadata": {
        "id": "eMyrNQ8mTSZW"
      },
      "source": [
        "Pengguna Paling Aktif: Menunjukkan distribusi jumlah ulasan per pengguna."
      ]
    },
    {
      "cell_type": "markdown",
      "metadata": {
        "id": "WcoO8uO3Snu2"
      },
      "source": [
        "### Analisis Tren Waktu"
      ]
    },
    {
      "cell_type": "markdown",
      "metadata": {
        "id": "F5laOf3gRFMm"
      },
      "source": [
        "Perintah `data['timestamp'] = pd.to_datetime(data['timestamp'], unit='s')` digunakan untuk mengonversi kolom timestamp yang berisi data dalam format Unix Timestamp.\n",
        "1. `pd.to_datetime()`: Fungsi dari pandas untuk mengonversi nilai menjadi objek datetime.\n",
        "2. `data['timestamp']`: Mengakses kolom timestamp dalam DataFrame data.\n",
        "3. `unit='s'`: Menyatakan bahwa nilai dalam kolom timestamp adalah dalam satuan detik (seconds)"
      ]
    },
    {
      "cell_type": "code",
      "execution_count": null,
      "metadata": {
        "id": "fJyzqLN5Q3Rn"
      },
      "outputs": [],
      "source": [
        "# Mengonversi timestamp menjadi format date time\n",
        "data['timestamp'] = pd.to_datetime(data['timestamp'], unit='s')"
      ]
    },
    {
      "cell_type": "markdown",
      "metadata": {
        "id": "i2lPQwgkRs5C"
      },
      "source": [
        "Perintah `data['year'] = data['timestamp'].dt.year` digunakan untuk menambahkan kolom baru yang berisi tahun dari kolom `timestamp` yang sudah dikonversi ke format datetime.\n",
        "1. `data['timestamp'].dt.year`: Mengakses bagian tahun dari kolom `timestamp` yang sudah dalam format datetime.\n",
        "2. `data['year']`: Membuat kolom baru dalam DataFrame `data` untuk menyimpan nilai tahun."
      ]
    },
    {
      "cell_type": "code",
      "execution_count": null,
      "metadata": {
        "id": "741qoWNKRJQf"
      },
      "outputs": [],
      "source": [
        "# Menambahkan kolom tahun untuk analisis tren waktu\n",
        "data['year'] = data['timestamp'].dt.year"
      ]
    },
    {
      "cell_type": "markdown",
      "metadata": {
        "id": "O-gHrGS5SIjf"
      },
      "source": [
        "Perintah `data['year'].value_counts().sort_index() `digunakan untuk menghitung jumlah ulasan yang diberikan per tahun berdasarkan kolom `year`:\n",
        "1. `data['year']`: Mengakses kolom `year` dalam DataFrame data `Inline code`, yang berisi tahun dari setiap entri ulasan.\n",
        "2. `value_counts()`: Menghitung jumlah frekuensi (jumlah ulasan) untuk setiap tahun.\n",
        "3. `sort_index()`: Mengurutkan hasil berdasarkan tahun (indeks), sehingga urutan hasilnya adalah dari tahun yang lebih awal ke yang lebih baru."
      ]
    },
    {
      "cell_type": "code",
      "execution_count": null,
      "metadata": {
        "id": "uZ5JGqY4RMA-"
      },
      "outputs": [],
      "source": [
        "# Menghitung jumlah ulasan per tahun\n",
        "reviews_per_year = data['year'].value_counts().sort_index()"
      ]
    },
    {
      "cell_type": "markdown",
      "metadata": {
        "id": "eij6LkJvSz1R"
      },
      "source": [
        "Perintah ini digunakan unuk membuat grafik garis yang menunjukkan jumlah ulasna per tahun:\n",
        "1. `plt.figure(figsize=(10, 6))`: Menentukan ukuran grafik menjadi 10x6 inci.\n",
        "2. reviews_per_year.plot(kind='line', marker='o', color='purple'):\n",
        "  - `kind='line'`: Membuat grafik garis.\n",
        "  - `marker='o'`: Menambakan marker berbentuk lingkaran pada setiap titik data.\n",
        "  - `color='purple'`: Menentukan warna garis menjadi ungu.\n",
        "3. `plt.title('Jumlah Ulasan per Tahun')`: Menambahkan judul grafik.\n",
        "4. `plt.xlabel('Tahun')` dan `plt.ylabel('Jumlah Ulasan')`: Menambahkan label pada sumbu x dan y\n",
        "5. `plt.show()`: Menampilkan Grafik"
      ]
    },
    {
      "cell_type": "code",
      "execution_count": null,
      "metadata": {
        "id": "oL3KAxG-RSwn",
        "colab": {
          "base_uri": "https://localhost:8080/"
        },
        "outputId": "13105ecb-0459-46b3-e20a-d67ba525410f"
      },
      "outputs": [
        {
          "output_type": "display_data",
          "data": {
            "text/plain": [
              "<Figure size 1000x600 with 1 Axes>"
            ],
            "image/png": "[encoded data removed]"
          },
          "metadata": {}
        }
      ],
      "source": [
        "# Plot jumlah ulasan per tahun\n",
        "plt.figure(figsize=(10, 6))\n",
        "reviews_per_year.plot(kind='line', marker='o', color='purple')\n",
        "plt.title('Jumlah Ulasan per Tahun')\n",
        "plt.xlabel('Tahun')\n",
        "plt.ylabel('Jumlah Ulasan')\n",
        "plt.show()"
      ]
    },
    {
      "cell_type": "markdown",
      "metadata": {
        "id": "H-umYeEyTW-p"
      },
      "source": [
        "Tren Waktu: Menggambarkan bagaimana jumlah ulasan berubah seiring waktu."
      ]
    },
    {
      "cell_type": "markdown",
      "metadata": {
        "id": "qfyimTrYSqQ2"
      },
      "source": [
        "### Rata - rata rating per Produk"
      ]
    },
    {
      "cell_type": "code",
      "execution_count": null,
      "metadata": {
        "id": "6MxIpbMYReAu"
      },
      "outputs": [],
      "source": [
        "# Menghitung rata - rata rating per produk\n",
        "average_rating_per_product = data.groupby('product_id')['Rating'].mean()"
      ]
    },
    {
      "cell_type": "code",
      "execution_count": null,
      "metadata": {
        "id": "LA-tw0WURh8G",
        "colab": {
          "base_uri": "https://localhost:8080/"
        },
        "outputId": "e2368c4d-19db-4bc1-f11a-0746913cf6d8"
      },
      "outputs": [
        {
          "output_type": "display_data",
          "data": {
            "text/plain": [
              "<Figure size 1000x600 with 1 Axes>"
            ],
            "image/png": "[encoded data removed]"
          },
          "metadata": {}
        }
      ],
      "source": [
        "# Plot 10 produk dengan rata - rata rating tertinggi\n",
        "plt.figure(figsize = (10, 6))\n",
        "average_rating_per_product.sort_values(ascending=False).head(10).plot(kind='bar', color='green')\n",
        "plt.title('Top 10 Produk Dengan Rata - Rata Rating Tertinggi')\n",
        "plt.xlabel('Produk ID')\n",
        "plt.ylabel('Rata - Rata Rating')\n",
        "plt.xticks(rotation=45)\n",
        "plt.show()"
      ]
    },
    {
      "cell_type": "markdown",
      "metadata": {
        "id": "UamRcHBqTbYP"
      },
      "source": [
        "Rata-rata Rating per Produk: Menunjukkan kualitas produk berdasarkan rating."
      ]
    },
    {
      "cell_type": "markdown",
      "metadata": {
        "id": "0L0trad8StPP"
      },
      "source": [
        "### Jumlah pengguna yang memberikan rating per Produk"
      ]
    },
    {
      "cell_type": "markdown",
      "metadata": {
        "id": "BwbFU5E3Tqcq"
      },
      "source": [
        "Perintah `data.groupby('product_id')['user_id'].nunique()` digunakan untuk menghitung jumlah pengguna unik (distinct user) yang memberikan rating untuk setiap produk:\n",
        "1. `data.groupby('product_id')`: Mengelompokkan data berdasarkan `product_id`, artinya setiap group akan mewakili satu produk.\n",
        "2. `['user_id']`: Menyaring kolom `user_id` untuk menghitung jumlah pengguna.\n",
        "3. `nunique()`: Menghitung jumlah nilai untuk dalam kolom `user_id` untuk setiap produk, yaitu jumlah pengguna yang memberikan rating untuk produk tersebut."
      ]
    },
    {
      "cell_type": "code",
      "execution_count": null,
      "metadata": {
        "id": "Qd7NyiXsRqeH"
      },
      "outputs": [],
      "source": [
        "# Menghitung jumlah pengguna yang memberikan rating per produk\n",
        "product_user_counts = data.groupby('product_id')['user_id'].nunique()"
      ]
    },
    {
      "cell_type": "markdown",
      "metadata": {
        "id": "7v7IuaaQUNch"
      },
      "source": [
        "Perintah ini digunakan untuk membuat grafik batang yang menampilkan 10 produk dengan jumlah pengguna terbanyak yang memberikan rating:\n",
        "1. `plt.figure(figsize=(10, 6))`: Menentukan ukuran grafik menjadi 10x6 inci.\n",
        "2. `product_user_counts.sort_values(ascending=False).head(10).plot(kind='bar', color='salmon')`:\n",
        "  - `sort_values(ascending=False)`: Mengurutkan produk berdasarkan jumlah pengguna terbanyak (dari yang lebih banyak ke yang lebih sedikt).\n",
        "  - `head(10)`: Mengambil 10 produk teratas dengan jumlah pengguna terbanyak yang memberikan rating.\n",
        "  - `plot(kind='bar', color='salmon')`: Membuat grafik batang dengan warna salmon.\n",
        "3.` plt.title('Top 10 Produk Dengan Jumlah Pengguna Terbanyak Yang Memberikan Rating')`: Menambahkan judul grafik.\n",
        "4. `plt.xlabel('Produk ID')` dan p`lt.ylabel('Jumlah Pengguna')`: Menambahkan label pada sumbu x dan y.\n",
        "5. `plt.xticks(rotation=45)`: Memutar label sumbu x (produk ID) sebesar 45 derajat agar lebih mudah dibaca.\n",
        "6. `plt.show()`: Menampilkan grafik.\n"
      ]
    },
    {
      "cell_type": "code",
      "execution_count": null,
      "metadata": {
        "id": "1EsM-iDqRzUW",
        "colab": {
          "base_uri": "https://localhost:8080/"
        },
        "outputId": "5bc9a2d3-d83d-4111-a16e-12e3e3ae612b"
      },
      "outputs": [
        {
          "output_type": "display_data",
          "data": {
            "text/plain": [
              "<Figure size 1000x600 with 1 Axes>"
            ],
            "image/png": "[encoded data removed]"
          },
          "metadata": {}
        }
      ],
      "source": [
        "# Plot 10 produk dengan jumlah pengguna terbanyak yang memberikan rating\n",
        "plt.figure(figsize=(10, 6))\n",
        "product_user_counts.sort_values(ascending=False).head(10).plot(kind='bar', color='salmon')\n",
        "plt.title('Top 10 Produk Dengan Jumlah Pengguna Terbanyak Yang Memberikan Rating')\n",
        "plt.xlabel('Produk ID')\n",
        "plt.ylabel('Jumlah Pengguna')\n",
        "plt.xticks(rotation=45)\n",
        "plt.show()"
      ]
    },
    {
      "cell_type": "markdown",
      "metadata": {
        "id": "Ud6OaEs6Tu5H"
      },
      "source": [
        "Pengguna yang Memberikan Rating Per Produk: Menunjukkan produk mana yang mendapat perhatian lebih banyak dari pengguna"
      ]
    },
    {
      "cell_type": "markdown",
      "metadata": {
        "id": "MO66Lg_6WJLt"
      },
      "source": [
        "# Model"
      ]
    },
    {
      "cell_type": "markdown",
      "metadata": {
        "id": "5aMFj1UkFE2P"
      },
      "source": [
        "## Library"
      ]
    },
    {
      "cell_type": "code",
      "execution_count": null,
      "metadata": {
        "id": "1wqfolkjEiLi",
        "colab": {
          "base_uri": "https://localhost:8080/"
        },
        "outputId": "65cb86a5-2cee-45ef-cacd-eeea5d169bab"
      },
      "outputs": [
        {
          "output_type": "stream",
          "name": "stdout",
          "text": [
            "Collecting scikit-surprise\n",
            "  Downloading scikit_surprise-1.1.4.tar.gz (154 kB)\n",
            "\u001b[?25l     \u001b[90m━━━━━━━━━━━━━━━━━━━━━━━━━━━━━━━━━━━━━━━━\u001b[0m \u001b[32m0.0/154.4 kB\u001b[0m \u001b[31m?\u001b[0m eta \u001b[36m-:--:--\u001b[0m\r\u001b[2K     \u001b[90m━━━━━━━━━━━━━━━━━━━━━━━━━━━━━━━━━━━━━━━━\u001b[0m \u001b[32m154.4/154.4 kB\u001b[0m \u001b[31m4.7 MB/s\u001b[0m eta \u001b[36m0:00:00\u001b[0m\n",
            "\u001b[?25h  Installing build dependencies ... \u001b[?25l\u001b[?25hdone\n",
            "  Getting requirements to build wheel ... \u001b[?25l\u001b[?25hdone\n",
            "  Preparing metadata (pyproject.toml) ... \u001b[?25l\u001b[?25hdone\n",
            "Requirement already satisfied: joblib>=1.2.0 in /usr/local/lib/python3.10/dist-packages (from scikit-surprise) (1.4.2)\n",
            "Requirement already satisfied: numpy>=1.19.5 in /usr/local/lib/python3.10/dist-packages (from scikit-surprise) (1.26.4)\n",
            "Requirement already satisfied: scipy>=1.6.0 in /usr/local/lib/python3.10/dist-packages (from scikit-surprise) (1.13.1)\n",
            "Building wheels for collected packages: scikit-surprise\n",
            "  Building wheel for scikit-surprise (pyproject.toml) ... \u001b[?25l\u001b[?25hdone\n",
            "  Created wheel for scikit-surprise: filename=scikit_surprise-1.1.4-cp310-cp310-linux_x86_64.whl size=2357280 sha256=e01749646eacf10d6fce9a43e540512e1c4d9902ff8c32ac0c4e770a8518635b\n",
            "  Stored in directory: /root/.cache/pip/wheels/4b/3f/df/6acbf0a40397d9bf3ff97f582cc22fb9ce66adde75bc71fd54\n",
            "Successfully built scikit-surprise\n",
            "Installing collected packages: scikit-surprise\n",
            "Successfully installed scikit-surprise-1.1.4\n"
          ]
        }
      ],
      "source": [
        "!pip install scikit-surprise\n"
      ]
    },
    {
      "cell_type": "markdown",
      "metadata": {
        "id": "4j60FQ3mVOeJ"
      },
      "source": [
        "Perintah yang anda tulis mengimpor pustaka dan fungsi yang digunakan untuk evaluasi dan memangun model sistem rekomendasi:\n",
        "1. `from sklearn.metrics import mean_squared_error, mean_absolute_error`:\n",
        "  - `mean_squared_error`: Fungsi untuk menghitung **Mean Suared Error (MSE)**, yang digunakan untuk mengukur seberapa jauh prediksi model dari nilai asli (semakin kecil, semakin baik).\n",
        "  - `mean_absolute_error`: Fungsi untuk menghitung **Mean Absolute Error (MAE)**, yang juga digunakan untuk mengukur seberapa jauh prediksi model dari nilai asli, namun dalam satuan yang sama dengan data (nilai absolut dari perbedaan antara nilai yang diprediksi dan yang sebenarnya).\n",
        "2. `from surprise import Dataset, Reader, KNNBasic`:\n",
        "  - `Dataset`: Digunakan untuk memuat data dalam format yang dapat digunakan oleh pustaka `suprise` untuk sistem rekomendasi.\n",
        "  - `Reader`: DIgunakan untuk mendefinisikan format data input, misalnya rating yang diberikan oleh pengguna pada produk.\n",
        "  - `KNNBasic`: Salah satu algoritma berbasis **k-nearest neighbors (KNN)** yang digunakan untuk membangun model rekomendasi berbasis kesamaan (similarity) antar pengguna tau produk.\n",
        "3. `from surprise.model_selection import train_test_split`:\n",
        "  - `train_test_split`: Fungsi untuk membagi data menjadi set pelatihan (training) dan pengujian (testing), yang digunakan untuk melatihmodel yangm enguji performanya."
      ]
    },
    {
      "cell_type": "code",
      "execution_count": null,
      "metadata": {
        "id": "jmO4IIs7Ecpf"
      },
      "outputs": [],
      "source": [
        "from sklearn.metrics import mean_squared_error, mean_absolute_error\n",
        "from surprise import Dataset, Reader, KNNBasic, SVD, accuracy\n",
        "from surprise.model_selection import train_test_split"
      ]
    },
    {
      "cell_type": "markdown",
      "source": [
        "## Model Collaborative Filtering (KNN)"
      ],
      "metadata": {
        "id": "dzhctC9xeW_K"
      }
    },
    {
      "cell_type": "markdown",
      "metadata": {
        "id": "5RydqEFnEnaR"
      },
      "source": [
        "### Data Prep"
      ]
    },
    {
      "cell_type": "markdown",
      "metadata": {
        "id": "_gd_kOQnWpfS"
      },
      "source": [
        "Perintah yang Anda berikan digunakan untuk mempersiapkan data digunakan dalam pustaka Suprise, yang umum digunakan untuk membangun sistem rekomendasi berbasis collaborative filtering:\n",
        "1. ` reader = Reader(rating_scale=(1, 5))`:\n",
        "  - Membuat objek Reader yang mendefinisikan tentang nilai raitn gyand digunakan dalam data, yaitu antara 1 dan 5. Ini memberi tahu pustaka Suprise bahwa rating yang ada dalam data berada dalam rentang ini.\n",
        "2. `surprise_data = Dataset.load_from_df(data[['user_id', 'product_id', 'Rating']], reader)`:\n",
        "  - Mengguakan fungsi `load_from_df` untuk memuat `data` dari DataFrame data yang terdiri dari tiga kolom: `user_id`, `product_id`, dan `Rating`.\n",
        "  - Fungsi ini mengonversi DataFrame ke dalam format yang dapat diproses oleh pustaka Surprise.\n",
        "3. `trainset, testset = train_test_split(surprise_data, test_size=0.2)`:\n",
        "  - `train_test_split`: Membagi data menjadi dua bagian: training set (80% dari data) data test set (20% dari data).\n",
        "  - `test_size=0.2`: Menentukan proporsi data yang digunakan untuk testing (20%).\n",
        "  - Hasil adalah dua variabel: `trainset` untuk pelatihan model, dan `testset` untuk menguji model setelah dilatih."
      ]
    },
    {
      "cell_type": "code",
      "execution_count": null,
      "metadata": {
        "id": "2Gf6oWhREp03"
      },
      "outputs": [],
      "source": [
        "# Menyiapkan data untuk Surprise\n",
        "reader = Reader(rating_scale=(1, 5))\n",
        "surprise_data = Dataset.load_from_df(data[['user_id', 'product_id', 'Rating']], reader)\n",
        "trainset, testset = train_test_split(surprise_data, test_size=0.2)"
      ]
    },
    {
      "cell_type": "markdown",
      "metadata": {
        "id": "sQ3_-wAPG8w_"
      },
      "source": [
        "### Model KNN"
      ]
    },
    {
      "cell_type": "markdown",
      "metadata": {
        "id": "SDW7Qf0kE4V4"
      },
      "source": [
        "#### 1. Model User-to-user Collaborative Filtering"
      ]
    },
    {
      "cell_type": "markdown",
      "metadata": {
        "id": "33Tc8hcihLWD"
      },
      "source": [
        "Kode ini mengimplementasikan algoritma **collaborative filtering** berbasis user-user menggunakan KNN (K-Nearest Neighbors).\n",
        "1. `KNNBasic(sim_options={'name': 'cosine', 'user_based': True})`: Menggunakan algoritma KNN dengan metrik kemiripan cosine dan pengaturan `user_based=True`, yang berarti algoritma ini melakukan filtering berdasarkan kemiripan antar pengguna (*user-user*).\n",
        "2. `user_user_algo.fit(trainset)`: Melatih model pada dataset latih (`trainset`). Model akan mempelajari pola preferensi pengguna berdasarkan data tersebut.\n",
        "3. `user_user_algo.test(testset)`: Menguji model pada dataset `(testset)` untuk menghasilkan prediksi rekomendasi bagi setiap pasangan pengguna-item. Hasilnya adalah daftar *rating* yang diprediksi untuk item tertentu, berdasarkan preferensi pengguna yang mirip.\n"
      ]
    },
    {
      "cell_type": "code",
      "execution_count": null,
      "metadata": {
        "id": "e-7efSP9FDc_",
        "colab": {
          "base_uri": "https://localhost:8080/"
        },
        "outputId": "c5c1e360-2ebc-45b1-82be-8997f9f81b73"
      },
      "outputs": [
        {
          "output_type": "stream",
          "name": "stdout",
          "text": [
            "Computing the cosine similarity matrix...\n",
            "Done computing similarity matrix.\n"
          ]
        }
      ],
      "source": [
        "# Model User-to-User Collaborative Filterin\n",
        "user_user_algo = KNNBasic(sim_options={'name': 'cosine', 'user_based': True})\n",
        "user_user_algo.fit(trainset)\n",
        "user_user_predictions = user_user_algo.test(testset)"
      ]
    },
    {
      "cell_type": "markdown",
      "metadata": {
        "id": "FTi94dcSFhXB"
      },
      "source": [
        "#### 2. Model Product-to-product Collaborative Filtering"
      ]
    },
    {
      "cell_type": "markdown",
      "metadata": {
        "id": "yMjtp-3jh4tc"
      },
      "source": [
        "Kode ini mengimplementasikan algoritma **collaborative filtering** berbasis produk-produk menggunakan KNN (K-NEarest Neighbors).\n",
        "1. `KNNBasic(sim_options={'name': 'cosine', 'user_based': False})`: Menggunakan algoritma KNN dengan metrik kemiripan cosine dan pengaturan `user_based=False`, yang artinya algoritma ini bekerja berdasarkan kemiripan antar produk, bukan antar pengguna (*item-item filteirng*).\n",
        "2. `product_product_algo.fit(trainset)`: Melatih model dengan dataset latih (`trainset`). Model ini mempelajari pola kemiripan antar produk berdasarkan kesamaan dalam *rating* dari pengguna.\n",
        "3. `product_product_algo.test(testset)`: Menguji model pada dataset `testset` untuk menghasilkan prediksi *rating* bagi pasangan pengguna-produk. Prediksi ini merekomendasikan produk serupa yang pernah dinilai atau disukai pengguna lain yang menilai produk serupa.\n"
      ]
    },
    {
      "cell_type": "code",
      "execution_count": null,
      "metadata": {
        "id": "WYe1eT1JFnoo",
        "colab": {
          "base_uri": "https://localhost:8080/"
        },
        "outputId": "00e66d28-8219-4ea8-a665-47240cd66cd4"
      },
      "outputs": [
        {
          "output_type": "stream",
          "name": "stdout",
          "text": [
            "Computing the cosine similarity matrix...\n",
            "Done computing similarity matrix.\n"
          ]
        }
      ],
      "source": [
        "# Model Product-to-Product Collaborative Filtering\n",
        "product_product_algo = KNNBasic(sim_options={'name': 'cosine', 'user_based': False})\n",
        "product_product_algo.fit(trainset)\n",
        "product_product_predictions = product_product_algo.test(testset)"
      ]
    },
    {
      "cell_type": "markdown",
      "metadata": {
        "id": "TRS_QrJWYQgn"
      },
      "source": [
        "### Evaluasi Model KNN"
      ]
    },
    {
      "cell_type": "markdown",
      "metadata": {
        "id": "xJo2Oq5JGj9B"
      },
      "source": [
        "#### User-to-user Collaborative Filter"
      ]
    },
    {
      "cell_type": "markdown",
      "metadata": {
        "id": "QnKkGlMBiupk"
      },
      "source": [
        "Kode berikut menghitung RMSE (Root Mean Squared Error) dan MAE (Mean Absolute Error) untuk model User-to-User Collaborative Filtering.\n",
        "1. `mean_squared_error([pred.r_ui for pred in user_user_predictions], [pred.est for pred in user_user_predictions], squared=False)`:\n",
        "  - **RMSE** dihitung dari perbedaan antara nilai akutal (`r_ui`) dan nilai prediksi (`est`) untuk setiap prediksi di *user_user_predictions*.\n",
        "  - `squared=False` memastikan bahwa nilai yang dikembalikan adalah akar dari *mean squared error*, yang memberikan RMSE.\n",
        "2. `mean_absolute_error([pred.r_ui for pred in user_user_predictions], [pred.est for pred in user_user_predictions])`:\n",
        "  - **MAE** dihitung dari rata-rata absolut dari perbedaan antara nilai aktual (r_ui) dan nilai prediksi (est).\n",
        "3. `print(f'User-to-User RMSE: {user_user_rmse:.4f}')` dan print `(f'User-to-User MAE: {user_user_mae:.4f}')`:\n",
        " - Menampilkan hasil perhitungan **RMSE** dan **MAE** dengan 4 angka dibelakang koma yang menunjukkan seberapa akurat model dalam memprediksi *rating* pengguna."
      ]
    },
    {
      "cell_type": "code",
      "execution_count": null,
      "metadata": {
        "id": "XPagpEmRFVjg",
        "colab": {
          "base_uri": "https://localhost:8080/"
        },
        "outputId": "d89c3ede-4393-457a-e52b-8941ee549a41"
      },
      "outputs": [
        {
          "output_type": "stream",
          "name": "stdout",
          "text": [
            "User-to-User RMSE: 1.3477\n",
            "User-to-User MAE: 1.0700\n"
          ]
        },
        {
          "output_type": "stream",
          "name": "stderr",
          "text": [
            "/usr/local/lib/python3.10/dist-packages/sklearn/metrics/_regression.py:492: FutureWarning: 'squared' is deprecated in version 1.4 and will be removed in 1.6. To calculate the root mean squared error, use the function'root_mean_squared_error'.\n",
            "  warnings.warn(\n"
          ]
        }
      ],
      "source": [
        "# Menghitung RMSE dan MAE untuk model User-to-User\n",
        "user_user_rmse = mean_squared_error([pred.r_ui for pred in user_user_predictions], [pred.est for pred in user_user_predictions], squared=False)\n",
        "user_user_mae = mean_absolute_error([pred.r_ui for pred in user_user_predictions], [pred.est for pred in user_user_predictions])\n",
        "\n",
        "print(f'User-to-User RMSE: {user_user_rmse:.4f}')\n",
        "print(f'User-to-User MAE: {user_user_mae:.4f}')"
      ]
    },
    {
      "cell_type": "markdown",
      "metadata": {
        "id": "_UsAbo-lGoXB"
      },
      "source": [
        "#### Product-to-product Collaborative Filtering"
      ]
    },
    {
      "cell_type": "markdown",
      "metadata": {
        "id": "gamh9cqvjm6b"
      },
      "source": [
        "Kode di atas menghitung **RMSE (Root Mean Squared Error)** dan **MAE (Mean Absolute Error)** untuk model *Product-to-Product Collaborative Filtering*.\n",
        "1. `mean_squared_error([pred.r_ui for pred in product_product_predictions], [pred.est for pred in product_product_predictions], squared=False)`:\n",
        "  - **RMSE** dihitung dengan membandingkan nilai aktual (`r_ui`) dengan nilai prediksi (`est`) dari setiap prediksi dalam product_product_predictions.\n",
        "  - `squared=False` memastikan hasilnya adalah akar dari *mean squared error*, sehingga memberikan nilai RMSE.\n",
        "2. `mean_absolute_error([pred.r_ui for pred in product_product_predictions], [pred.est for pred in product_product_predictions])`:\n",
        "  - **MAE** dihitung sebagai rata-rata perbedaan absolut antara nilai aktual (`r_ui`) dan nilai prediksi (`est`).\n",
        "3. `print(f'Product-to-Product RMSE: {product_product_rmse:.4f}')` dan print`(f'Product-to-Product MAE: {product_product_mae:.4f}')`:\n",
        "  - Menampilkan nilai RMSE dan MAE dengan 4 angka di belakang koma. Hasil ini menunjukkan tingkat akurasi model dalam memprediksi *rating* produk.\n"
      ]
    },
    {
      "cell_type": "code",
      "execution_count": null,
      "metadata": {
        "id": "lqWVabk5FwoJ",
        "colab": {
          "base_uri": "https://localhost:8080/"
        },
        "outputId": "fe187fce-e16c-4682-8333-73b7c57fc37b"
      },
      "outputs": [
        {
          "output_type": "stream",
          "name": "stdout",
          "text": [
            "Product-to-Product RMSE: 1.3477\n",
            "Product-to-Product MAE: 1.0700\n"
          ]
        },
        {
          "output_type": "stream",
          "name": "stderr",
          "text": [
            "/usr/local/lib/python3.10/dist-packages/sklearn/metrics/_regression.py:492: FutureWarning: 'squared' is deprecated in version 1.4 and will be removed in 1.6. To calculate the root mean squared error, use the function'root_mean_squared_error'.\n",
            "  warnings.warn(\n"
          ]
        }
      ],
      "source": [
        "# Menghitung RMSE dan MAE untuk model Product-to-Product\n",
        "product_product_rmse = mean_squared_error([pred.r_ui for pred in product_product_predictions], [pred.est for pred in product_product_predictions], squared=False)\n",
        "product_product_mae = mean_absolute_error([pred.r_ui for pred in product_product_predictions], [pred.est for pred in product_product_predictions])\n",
        "\n",
        "print(f'Product-to-Product RMSE: {product_product_rmse:.4f}')\n",
        "print(f'Product-to-Product MAE: {product_product_mae:.4f}')"
      ]
    },
    {
      "cell_type": "markdown",
      "metadata": {
        "id": "RXEKgxdKZUDp"
      },
      "source": [
        "### Menguji Model KNN"
      ]
    },
    {
      "cell_type": "markdown",
      "metadata": {
        "id": "D9figZgikLGC"
      },
      "source": [
        "Kode ini menyiapkan data untuk menguji rekomendasi bagi pengguna tertentu (`test_user_id`) dengan langkah-langkah sebagai berikut:\n",
        "1. `test_user_id = 'A2WNBOD3WNDNKT'`:\n",
        "  - Menetapkan `test_user_id` sebagai `'A2WNBOD3WNDNKT'`, yaitu ID pengguna yang akan diuji untuk mendapatkan rekomendasi produk.\n",
        "2. `all_products = data['product_id'].unique()`:\n",
        "  - Mengambil semua produk unik dalam dataset (`data`) dan menyimpannya di `all_products`. Ini akan memberikan daftar produk yang tersedia, yang kemudian bisa direkomendasikan kepada pengguna `test_user_id`.\n"
      ]
    },
    {
      "cell_type": "code",
      "execution_count": null,
      "metadata": {
        "id": "zGXTpV5iF6Qn"
      },
      "outputs": [],
      "source": [
        "# Uji coba rekomendasi untuk user_id\n",
        "test_user_id = 'A2WNBOD3WNDNKT'\n",
        "all_products = data['product_id'].unique()"
      ]
    },
    {
      "cell_type": "markdown",
      "metadata": {
        "id": "mF-B31r3Gl5P"
      },
      "source": [
        "#### User-to-user Collaborative Filtering"
      ]
    },
    {
      "cell_type": "markdown",
      "metadata": {
        "id": "MBhtrWQVku4l"
      },
      "source": [
        "Kode ini memprediksi rating yang diharapkan untuks etiap produk bagi pengguna tertentu (`test_user_id`) menggunakan model User-to-User Collaborative Filtering.\n",
        "1. `user_recommendations = []`:\n",
        "  - Membuat daftar kosong `user_recommendations` untuk menyimpan pasangan produk dan prediksi *rating*.\n",
        "2. `for product_id in all_products:`:\n",
        "  - Melakukan iterasi pada setiap `product_id` yang ada di `all_rpducts`, yaitu daftar semua produk unik.\n",
        "3. `pred = user_user_algo.predict(test_user_id, product_id)`:\n",
        "  - Menggunakan model User-to-User (`user_user_algo`) untuk memprediksi *rating* pengguna (`test_user_id`) terhadap produk saat ini (`product_id`). Hasil prediksi disimpan dalam `pred`, yang mencakup nilai estimasi *rating* dalam `pred.est`.\n",
        "4. `user_recommendations.append((product_id, pred.est))`:\n",
        "  - Menambahkan pasangan (`producat_id, pred.est`) ke daftar `user_recommendations`. Di sini, `product_id` adalah Id produk dan `pred.est` adalah *rating* yang dirpediksi oleh model."
      ]
    },
    {
      "cell_type": "code",
      "execution_count": null,
      "metadata": {
        "id": "Bv1m1QDeF_zn"
      },
      "outputs": [],
      "source": [
        "# Prediksi rating untuk setiap produk menggunakan model User-to-User\n",
        "user_recommendations = []\n",
        "for product_id in all_products:\n",
        "    pred = user_user_algo.predict(test_user_id, product_id)\n",
        "    user_recommendations.append((product_id, pred.est))"
      ]
    },
    {
      "cell_type": "markdown",
      "metadata": {
        "id": "2HTcIBFDlwvE"
      },
      "source": [
        "Kode berikut mengurutkan dan menampilkan 5 rekomendasi produk terbaik untuk pengguna tertentu (`test_user_id`) berdasrkan rating yang diprediksi menggunakan model U*ser-to-User Collaborative Filtering*.\n",
        "1. `user_recommendations = sorted(user_recommendations, key=lambda x: x[1], reverse=True)`:  \n",
        "  - Mengurutkan `user_recommendations` berdasarkan nilai rating yang diprediksi (elemen kedua dalam tuple) dalam urutan menurun (`reverse=True`), sehingga produk dengan rating tertinggi berada di posisi awal.\n",
        "2. `print(\"Top 5 User-to-User Recommendations for user A2WNBOD3WNDNKT:\")`:\n",
        "  - Menampilkan judul untuk hasil rekomendasi.\n",
        "3. `for product_id, rating in user_recommendations[:5]:`:\n",
        "  - Melakukan iterasi pada 5 produk teratas dalam daftar `user_recommendations` yang sudah diurutkan.\n",
        "4. `print(f'Product: {product_id}, Predicted Rating: {rating:.2f}')`:\n",
        "  - Menampilkan setiap produk dan raing prediksi dalam format yang rapi, dengan rating dibulatkan hingga dua desimal."
      ]
    },
    {
      "cell_type": "code",
      "execution_count": null,
      "metadata": {
        "id": "sa8-EQhOGBH5",
        "colab": {
          "base_uri": "https://localhost:8080/"
        },
        "outputId": "8bd11a0a-43cc-4ddd-f3ee-ebb7e608371d"
      },
      "outputs": [
        {
          "output_type": "stream",
          "name": "stdout",
          "text": [
            "Top 5 User-to-User Recommendations for user A2WNBOD3WNDNKT:\n",
            "Product: B000M9ISQ2, Predicted Rating: 4.00\n",
            "Product: B002L6HE9G, Predicted Rating: 4.00\n",
            "Product: B007MXGG5Q, Predicted Rating: 4.00\n",
            "Product: B008HOEDYU, Predicted Rating: 4.00\n",
            "Product: B0069R7TAM, Predicted Rating: 4.00\n"
          ]
        }
      ],
      "source": [
        "# Urutkan rekomendasi berdasarkan prediksi rating\n",
        "user_recommendations = sorted(user_recommendations, key=lambda x: x[1], reverse=True)\n",
        "\n",
        "# Menampilkan top 5 rekomendasi User-to-User untuk user_id\n",
        "print(f\"Top 5 User-to-User Recommendations for user {test_user_id}:\")\n",
        "for product_id, rating in user_recommendations[:5]:  # Hanya menampilkan 5 rekomendasi teratas\n",
        "    print(f'Product: {product_id}, Predicted Rating: {rating:.2f}')"
      ]
    },
    {
      "cell_type": "markdown",
      "metadata": {
        "id": "TrpeZgyVGqJP"
      },
      "source": [
        "#### Product-to-product Collaborative Filtering"
      ]
    },
    {
      "cell_type": "markdown",
      "metadata": {
        "id": "ZNalH3eUnv3j"
      },
      "source": [
        "Kode ini memprediksi *rating* untuk setiap produk bagi pengguna tertentu (`test_user_id`) menggunakan model *Product-to-Product Collaborative Filtering*.\n",
        "1. `product_recommendations = []`:\n",
        "  - Membuat daftar kosong product_recommendations untuk menyimpan pasangan produk dan prediksi *rating*.\n",
        "2. `for product_id in all_products:`:\n",
        "  - Melakukan iterasi pada setiap `product_id` dalam `all_products`, yaitu daftar semua produk unik.\n",
        "3. pred = product_product_algo.predict(test_user_id, product_id):\n",
        "  - Menggunakan model *Product-to-Product* (`product_product_algo`) untuk memprediksi *rating* yang diharapkan dari pengguna (`test_user_id`) untuk produk saat ini (`product_id`). Prediksi ini disimpan dalam `pred`, yang berisi nilai estimasi *rating* dalam `pred.est`.\n",
        "4. `product_recommendations.append((product_id, pred.est))`:\n",
        "  - Menambahkan pasangan `(product_id, pred.est)` ke dalam daftar product_recommendations, di mana `product_id` adalah ID produk dan `pred.est` adalah nilai *rating* yang diprediksi oleh model."
      ]
    },
    {
      "cell_type": "code",
      "execution_count": null,
      "metadata": {
        "id": "xUioZ6r3GJmJ"
      },
      "outputs": [],
      "source": [
        "# Prediksi rating untuk setiap produk menggunakan model Product-to-Product\n",
        "product_recommendations = []\n",
        "for product_id in all_products:\n",
        "    pred = product_product_algo.predict(test_user_id, product_id)\n",
        "    product_recommendations.append((product_id, pred.est))"
      ]
    },
    {
      "cell_type": "markdown",
      "metadata": {
        "id": "DHvCMfR3oU6Z"
      },
      "source": [
        "Kode ini mengurutkan dan menampilkan 5 rekomendasi produk terbaik untuk pengguna tertentu (`test_user_id`) berdasarkan *rating* yang diprediksi menggunakan model *Product-to-Product Collaborative Filtering*.\n",
        "1. `product_recommendations = sorted(product_recommendations, key=lambda x: x[1], reverse=True)`:\n",
        "  - Mengurutkan `product_recommendations` berdasarkan nilai *rating* yang diprediksi (elemen kedua dalam tuple) dalam urutan menurun (`reverse=True`), sehingga produk dengan *rating* tertinggi berada di urutan awal.\n",
        "2.` print(\"Top 5 Product-to-Product Recommendations for user A2WNBOD3WNDNKT:\")`:\n",
        "  - Menampilkan judul untuk hasil rekomendasi.\n",
        "3. `for product_id, rating in product_recommendations[:5]:`:\n",
        "  - Melakukan iterasi pada 5 produk teratas dalam daftar `product_recommendations` yang telah diurutkan.\n",
        "4. `print(f'Product: {product_id}, Predicted Rating: {rating:.2f}')`:\n",
        "  - Menampilkan ID produk dan *rating* prediksi dalam format yang rapi, dengan *rating* dibulatkan hingga dua desimal."
      ]
    },
    {
      "cell_type": "code",
      "execution_count": null,
      "metadata": {
        "id": "8YvW2kEmGKf6",
        "colab": {
          "base_uri": "https://localhost:8080/"
        },
        "outputId": "2f395036-a562-48af-c6c2-d9e96df184b3"
      },
      "outputs": [
        {
          "output_type": "stream",
          "name": "stdout",
          "text": [
            "Top 5 Product-to-Product Recommendations for user A2WNBOD3WNDNKT:\n",
            "Product: B000M9ISQ2, Predicted Rating: 4.00\n",
            "Product: B002L6HE9G, Predicted Rating: 4.00\n",
            "Product: B007MXGG5Q, Predicted Rating: 4.00\n",
            "Product: B008HOEDYU, Predicted Rating: 4.00\n",
            "Product: B0069R7TAM, Predicted Rating: 4.00\n"
          ]
        }
      ],
      "source": [
        "# Urutkan rekomendasi berdasarkan prediksi rating\n",
        "product_recommendations = sorted(product_recommendations, key=lambda x: x[1], reverse=True)\n",
        "\n",
        "# Menampilkan top 5 rekomendasi Product-to-Product untuk user_id\n",
        "print(f\"Top 5 Product-to-Product Recommendations for user {test_user_id}:\")\n",
        "for product_id, rating in product_recommendations[:5]:  # Hanya menampilkan 5 rekomendasi teratas\n",
        "    print(f'Product: {product_id}, Predicted Rating: {rating:.2f}')"
      ]
    },
    {
      "cell_type": "markdown",
      "source": [
        "# Model Collaborative Filtering (SVD)"
      ],
      "metadata": {
        "id": "kUSdJbBbe8aU"
      }
    },
    {
      "cell_type": "markdown",
      "source": [
        "## Model SVD"
      ],
      "metadata": {
        "id": "LryfKaMofHZC"
      }
    },
    {
      "cell_type": "markdown",
      "source": [
        "Kode di bawah `svd_model = SVD()` berfungsi untuk membuat objek model menggunakan algoritma Singular Value Decomposition (SDV), yang umum digunakan dalam collaborative filtering untuk sistem rekomendasi."
      ],
      "metadata": {
        "id": "U7v2ihvGsJTt"
      }
    },
    {
      "cell_type": "code",
      "source": [
        "# Menggunakan algoritma SVD\n",
        "svd_model = SVD()"
      ],
      "metadata": {
        "id": "mu8r99sugHWM"
      },
      "execution_count": null,
      "outputs": []
    },
    {
      "cell_type": "markdown",
      "source": [
        "Kode `svd_model.fit(trainset)` befrungsi untuk melatih model SVD dengan data latih yang disediakan dalam variabel `trainset`. Ketika metode `fit()` dipanggil, model akan mempelajari pola dalam data, khususnya berhubungan antara pengguna dan item, serta nilai rating mereka."
      ],
      "metadata": {
        "id": "8Je-cyXxsU19"
      }
    },
    {
      "cell_type": "code",
      "source": [
        "# Melatih model dengan data latih\n",
        "svd_model.fit(trainset)"
      ],
      "metadata": {
        "colab": {
          "base_uri": "https://localhost:8080/"
        },
        "id": "oDE4xdPCgHxK",
        "outputId": "fcc33cbb-1fa8-4e82-a370-63c3171a24ab"
      },
      "execution_count": null,
      "outputs": [
        {
          "output_type": "execute_result",
          "data": {
            "text/plain": [
              "<surprise.prediction_algorithms.matrix_factorization.SVD at 0x79ed6867ca60>"
            ]
          },
          "metadata": {},
          "execution_count": 35
        }
      ]
    },
    {
      "cell_type": "markdown",
      "source": [
        "## Evaluasi Model SVD"
      ],
      "metadata": {
        "id": "_UlbXkgRfK0T"
      }
    },
    {
      "cell_type": "markdown",
      "source": [
        "Kode dibawah melakukan prediksi rating untuk data uji menggunakan model SVD yang telah dilatih.\n",
        "1. `predictions =`: Variabel `predictions` diguanakn untuk menyimpan hasil prediksi dari model.\n",
        "2. `svd_model.test(testset)`: Metode `.test()` digunakan untuk membuat prediksi berdasarkan testset yang diberikan, yang berisi pasangan (atau triplet) pengguna-item-rating yang belum dilihat oleh mode. Metode ini mengembalikan daftar prediksi untuk setiap item di `testset`, yang bisa berupa rating yang diharapkan atau skor relevansi lainnya.\n"
      ],
      "metadata": {
        "id": "re3vtvjgssAf"
      }
    },
    {
      "cell_type": "code",
      "source": [
        "# Memprediksi data uji\n",
        "predictions = svd_model.test(testset)"
      ],
      "metadata": {
        "id": "j6bRbzezf6sS"
      },
      "execution_count": null,
      "outputs": []
    },
    {
      "cell_type": "markdown",
      "source": [
        "Kode berikut digunakan untuk menghitung metrik error *Root mean Square Error* (RMSE) dan *Mean Absolute Error* (MAE) dari prediksi yang telah dilakukan oleh model.\n",
        "1. `rmse = accuracy.rmse(predictions)`: Baris ini menghitung nilai RMSE antara rating yang diprediksi oleh model dan rating sebenarnya dalam `predictions`. RMSE mengukur seberapa jauh prediksi dari nilai sebenarnya secara rata-rata dalam satuan akar kuadrat dari kuadrat perbedaan, yang sensitif terhadap error yang besar.\n",
        "2. `mae = accuracy.mae(predictions)`: Baris ini menghitung nilai MAE antara rating yang diprediksi dan rating sebenarnya dalam `predictions`. MAE mengukur rata-rata selisih absolut antara prediksi dan nilai sebenarnya, memberikan penilaian langsung atas ketepatan prediksi model.\n"
      ],
      "metadata": {
        "id": "afSMrVBctI28"
      }
    },
    {
      "cell_type": "code",
      "source": [
        "# Menghitung RMSE dan MAE\n",
        "rmse = accuracy.rmse(predictions)\n",
        "mae = accuracy.mae(predictions)"
      ],
      "metadata": {
        "colab": {
          "base_uri": "https://localhost:8080/"
        },
        "id": "_YSMTmM3f8SS",
        "outputId": "e6db256b-fb24-4463-a486-aea6f8c3fe7e"
      },
      "execution_count": null,
      "outputs": [
        {
          "output_type": "stream",
          "name": "stdout",
          "text": [
            "RMSE: 1.3408\n",
            "MAE:  1.0659\n"
          ]
        }
      ]
    },
    {
      "cell_type": "markdown",
      "source": [
        "## Menguji Model SVD"
      ],
      "metadata": {
        "id": "bnW5f7nZfNWz"
      }
    },
    {
      "cell_type": "markdown",
      "source": [
        "Kode dibawah digunakan untuk melihat produk-produk yang telah diberikan rating oleh pengguna dengan `user_id` tertentu. Beriktu penjelasannya.\n",
        "1.` rated_items =`: Variabel `rated_items` akan menyimpan hasil berupa daftar produk yang sudah dirating oleh pengguna dengan `user_id` tertentu.\n",
        "2. `data[data['user_id'] == 'A322MDK0M89RHN']`: Bagian ini melakukan filtering pada *dataframe* `data` untuk memilih baris-baris di mana nilai `user_id` adalah `'A322MDK0M89RHN'`.\n",
        "3. `['product_id'].unique()`: Setelah baris-baris dengan `user_id` tertentu dipilih, kode ini mengambil kolom `product_id` dan mencari nilai yang unik (tanpa duplikasi), sehingga hanya produk yang pernah dirating oleh pengguna tersebut yang tersisa."
      ],
      "metadata": {
        "id": "3xFo9Ujjt6pl"
      }
    },
    {
      "cell_type": "code",
      "source": [
        "# Melihat produk yang sudah dirating oleh user_id = \"A322MDK0M89RHN\"\n",
        "rated_items = data[data['user_id'] == 'A322MDK0M89RHN']['product_id'].unique()"
      ],
      "metadata": {
        "id": "WmUn_u2Yf2k-"
      },
      "execution_count": null,
      "outputs": []
    },
    {
      "cell_type": "markdown",
      "source": [
        "Kode ini digunakan untuk mendapatkan daftar produk yang belum dirating oleh pengguna tertentu.\n",
        "1. `all_items = data['product_id'].unique()`:  Baris ini mengambil semua ID produk unik dari kolom `product_id` dalam *dataframe* `data`. Variabel `all_items` berisi daftar semua produk yang ada dalam dataset tanpa duplikasi.\n",
        "2.` unrated_items = [item for item in all_items if item not in rated_items]`: Baris ini membuat daftar produk yang belum dirating oleh pengguna terntetu. dengan melakukan *list comprehension*, kode ini memeriksa setiap item dalam `all_items` dan menambahkan item ke `unrated_items` jika item tersebut tidak ada dalam `rated_items` (produk yang sudah dirating oleh pengguna tersebut)."
      ],
      "metadata": {
        "id": "p8SQH7gYu3s7"
      }
    },
    {
      "cell_type": "code",
      "source": [
        "# Produk yang belum dirating oleh user\n",
        "all_items = data['product_id'].unique()\n",
        "unrated_items = [item for item in all_items if item not in rated_items]"
      ],
      "metadata": {
        "id": "_0nBwd1Sf3Bc"
      },
      "execution_count": null,
      "outputs": []
    },
    {
      "cell_type": "markdown",
      "source": [
        "Kode dibawah ini digunakan untuk membaut prediksi rating dari semua produk yang belum dirating oleh pengguna tertentu dan menyimpannya sebagai rekomendasi.\n",
        "1. `recommendations = []`: Baris ini menginisialisasi daftar kosong `recommendations`, yang akan menyimpan hasil prediksi rating untuk produk yang belum dirating oleh pengguna.\n",
        "2. `for item_id in unrated_items:`: Baris ini memulai loop untuk setiap `item_id` dalam daftar `unrated_items`, yaitu produk-produk yang belum dirating oleh pengguna.\n",
        "3. `pred = svd_model.predict('A2WNBOD3WNDNKT', item_id)`: Pada setiap iterasi, kode ini menggunakan metode `.predict()` dari `svd_model` untuk memprediksi rating pengguna dengan `user_id` tertentu (dalam hal ini `'A2WNBOD3WNDNKT'`) pada `item_id`. hasil prediksi disimpan dalam variable `pred`.\n",
        "4. `recommendations.append((item_id, pred.est))`: Baris ini menambahkan pasangan (`item_id`, `pred.est`) kedalam daftar `recommendations`.`pred.est` adalah nilai prediksi rating yang dihasilkan oleh model.\n"
      ],
      "metadata": {
        "id": "ED-BiBFMvf3q"
      }
    },
    {
      "cell_type": "code",
      "source": [
        "# Membuat prediksi untuk semua item yang belum dirating\n",
        "recommendations = []\n",
        "for item_id in unrated_items:\n",
        "    pred = svd_model.predict('A2WNBOD3WNDNKT', item_id)\n",
        "    recommendations.append((item_id, pred.est))"
      ],
      "metadata": {
        "id": "Z71dwdWaf4gS"
      },
      "execution_count": null,
      "outputs": []
    },
    {
      "cell_type": "markdown",
      "source": [
        "Kode berikut mengurutkan daftar rekomendasi berdasarkan prediksi rating tertinggi dan menampilkan 5 rekomendasi teratas untuk pengguna tertentu.\n",
        "1. `user_recommendations = sorted(recommendations, key=lambda x: x[1], reverse=True)`: Baris ini mengurutkan daftar `recommendations` berdasarkan prediksi rating (`x[1]`) dalam urutan menurun (`reverse=True`). hasilnya disimpan di `user_recommendations`, dengna item berprediksi rating tinggi di posisi awal.\n",
        "2. `test_user_id = \"A2WNBOD3WNDNKT\"`: Variable ini menimpan ID pengguna yang akan diberikan rekomendasi, yang dalam contoh ini adalah `\"A2WNBOD3WNDNKT\"`.\n",
        "3. `print(f\"Top 5 User-to-User Recommendations for user {test_user_id}:\")`: Baris ini menampilkan teks yang menunjukkan rekomendasi untuk pengguna tertentu, dengan menyisipkan `test_user_id`.\n",
        "4. `for product_id, rating in user_recommendations[:5]:`: Baris ini melakukan iterasi pada lima rekomendasi teratas dalam `user_recommendations`.\n",
        "5. `print(f'Product: {product_id}, Predicted Rating: {rating:.2f}')`: Baris ini menampilkan ID produk dan prediksi rating yang diestimasikan untuk produk tersebut, dengan dua angka desimal.\n"
      ],
      "metadata": {
        "id": "lfheHuutwmVk"
      }
    },
    {
      "cell_type": "code",
      "source": [
        "# Mengurutkan rekomendasi berdasarkan prediksi rating tertinggi\n",
        "user_recommendations = sorted(recommendations, key=lambda x: x[1], reverse=True)\n",
        "\n",
        "# Menampilkan top 5 rekomendasi User-to-User untuk user_id\n",
        "test_user_id = \"A2WNBOD3WNDNKT\"\n",
        "print(f\"Top 5 SVD Model Recommendations for user {test_user_id}:\")\n",
        "for product_id, rating in user_recommendations[:5]:  # Hanya menampilkan 5 rekomendasi teratas\n",
        "    print(f'Product: {product_id}, Predicted Rating: {rating:.2f}')"
      ],
      "metadata": {
        "id": "sOLry8c7f5Ha",
        "colab": {
          "base_uri": "https://localhost:8080/"
        },
        "outputId": "447a8526-98cd-47c4-b950-a68bb104da36"
      },
      "execution_count": null,
      "outputs": [
        {
          "output_type": "stream",
          "name": "stdout",
          "text": [
            "Top 5 SVD Model Recommendations for user A2WNBOD3WNDNKT:\n",
            "Product: B003ES5ZUU, Predicted Rating: 4.58\n",
            "Product: B0002L5R78, Predicted Rating: 4.55\n",
            "Product: B0019EHU8G, Predicted Rating: 4.54\n",
            "Product: B000S5Q9CA, Predicted Rating: 4.53\n",
            "Product: B00622AG6S, Predicted Rating: 4.50\n"
          ]
        }
      ]
    }
  ],
  "metadata": {
    "colab": {
      "collapsed_sections": [
        "CjGx_7DZ36AQ",
        "LMsg6OR-On0u",
        "mu-xfAhkSfO4",
        "zBAQBtjwSiRe",
        "fiyrNvFwSlyX",
        "WcoO8uO3Snu2",
        "5RydqEFnEnaR",
        "sQ3_-wAPG8w_",
        "TRS_QrJWYQgn",
        "RXEKgxdKZUDp",
        "TrpeZgyVGqJP"
      ],
      "provenance": []
    },
    "kernelspec": {
      "display_name": "Python 3",
      "name": "python3"
    },
    "language_info": {
      "name": "python"
    }
  },
  "nbformat": 4,
  "nbformat_minor": 0
}